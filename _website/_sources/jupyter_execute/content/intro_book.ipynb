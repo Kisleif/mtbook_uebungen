{
 "cells": [
  {
   "cell_type": "markdown",
   "id": "42f1a69f-b65f-4e66-be77-a70ec901e8b6",
   "metadata": {},
   "source": [
    "# Über dieses Book & Python\n",
    "\n",
    "Das Metrology Lecture Book ist eine Webseite (JupyterBook) für das Vorlesungsskript Messtechnik, welches aus einzelnen Jupyter-Notebooks (in Python programmiert) aufgebaut ist.\n",
    "Wie ihr diese Infastruktur optimal nutzen könnt, soll im Folgenden erläutert werden.\n",
    "\n",
    "```{admonition} Info\n",
    "Um dem **Vorlesungsskript** zu folgen, sind **keine Python-Kenntnisse erforderlich**. \n",
    "```\n",
    "\n",
    "## {fa}`check` Kommentare und Markierungen\n",
    "Stelle Fragen, diskutiere mit anderen und gestalte dein Lernen aktiv, indem du zum Beispiel die **Kommentier- und Highlight-Funktion** in https://hypothes.is/ benutzt: \n",
    "\n",
    "* Klickt ganz oben am rechten Seitenrand auf den Pfeil, das Auge oder das Papier.\n",
    "* Unter https://hypothes.is/ registrieren bzw. einloggen, wenn bereits ein Account besteht.\n",
    "* Ggf. auf https://hypothes.is/ eine neue Gruppe für eigene Notizen erstellen.\n",
    "* Auf der Seite die entsprechende Gruppen auswählen, in der ihr Notizen anlegen wollt.\n",
    "* Text auf der Seite markieren und ggf. Notizen hinzufügen. \n",
    "\n",
    "```{seealso}\n",
    "Auf der Webseite https://hypothes.is/ findet ihr eure Kollektion von Notizen und könnt sie direkt als Karteikarten benutzen. \n",
    "```\n",
    "\n",
    "```{tip}\n",
    "Legt eine gemeinsame Gruppe für die Klausurvorbereitung an!\n",
    "```\n",
    "\n",
    "## {fa}`download` Download\n",
    "Jede Webseite kann über den {fa}`download` Button in folgenden Formation heruntergeladen werden. \n",
    "* `.pdf` geht immer\n",
    "* `.ipynb` wenn die Webseite als Jupyter-Notebook hinterlegt ist\n",
    "* `.md` wenn die Webseite als Markdown hinterlegt ist\n",
    "\n",
    "## {fa}`rocket` Python-Code im Browser\n",
    "Über die {fa}`rocket` oben könnt ihr jede Webseite, die als Jupyter-Notebook hinterlegt ist, direkt im Browser ohne lokale Python-Installation auf eurem Rechner ausführen. Dadurch habt ihr die Möglichkeit, den Code selbst auszuführen, Parameter anzupassen, zu experimentieren und ganz nebenbei Python zu lernen. \n",
    "* {guilabel}`Live Code`: Innerhalb der Webseite sollte nun ein Kernel gestartet werden, dies kann ein paar Sekunden dauern. Jetzt könnte ihr den Code in den Zellen direkt auf der Webseite verändern und neu ausführen. Da der Live Code auf Binder basiert, kann es unter Umständen ein paar Minuten dauern, bis der Live Code ausgeführt werden kann. \n",
    "* {guilabel}`Colab`: Das Jupyter-Notebook wird in der Python Umgebung von Goggle geöffnet und kann dort ausgeführt werden. Habt ihr einen Google-Account, könnt ihr dort auch eine Kopie des Notebooks ablegen.\n",
    "* {guilabel}`Binder`: Das Jupyter-Notebook wird im Binder-Browser gestartet. Dies kann einige Minuten dauern.\n",
    "\n",
    "```{admonition} Aufgabe\n",
    ":class: tip\n",
    "Probiert es direkt auf dieser Seite aus: ändert die Variablen im folgenden Code-Block und führt ihn erneut aus indem ihr auf {guilabel}`Run` klickt.\n",
    "```\n"
   ]
  },
  {
   "cell_type": "code",
   "execution_count": 1,
   "id": "6e984423-15a4-4013-a45f-25de2bbff97b",
   "metadata": {},
   "outputs": [
    {
     "name": "stdout",
     "output_type": "stream",
     "text": [
      "Dies ist eine Python-Variable und die Zahl-Variable lautet:  12346\n"
     ]
    }
   ],
   "source": [
    "beispiel_string = 'Dies ist eine Python-Variable'\n",
    "beispiel_zahl = 12345\n",
    "print(beispiel_string, 'und die Zahl-Variable lautet: ' , beispiel_zahl + 1)"
   ]
  },
  {
   "cell_type": "markdown",
   "id": "c914e6d2-ee09-4081-8a9f-da0798dd9bf1",
   "metadata": {},
   "source": [
    "## 💻 Python Installation\n",
    "Zusätzlich könnt ihr Python nutzen, um eure Messdaten aus dem Praktikum auszuwerten. Wir stellen bereits eine Sammlung von Jupyter-Notebooks für ausgewählte Praktikumsversuche zur Verfügung, um den Einstieg zu erleichtern. \n",
    "\n",
    "### Download der Jupyter-Botebooks\n",
    "Wie bereits erwähnt, könnte ihr jedes Notebook über den {fa}`download` Button als `.ipynb` herunterladen. Diese Datei könnt ihr dann auf eurem PC ausführen. Bitte beachtet, dass ihr für manche Notebooks Messdaten benötigt. Diese müsst ihr separat aus dem [**GitHub-Repository**](https://github.com/Kisleif/mtbook) herunterladen (`content/data/`). \n",
    "\n",
    "### Jupyter Lab Desktop\n",
    "Wir empfehlen die Installation von [**Jupyter Lab Desktop**](https://github.com/jupyterlab/jupyterlab-desktop)\n",
    "<iframe width=\"560\" height=\"315\" src=\"https://www.youtube.com/embed/JYs2k9haGRM?si=BdMFQh9aNBsXyX0e\" title=\"YouTube video player\" frameborder=\"0\" allow=\"accelerometer; autoplay; clipboard-write; encrypted-media; gyroscope; picture-in-picture; web-share\" allowfullscreen></iframe>\n",
    "\n",
    "Mit Jupyter Lab können die Jupyter-Notebooks (`.ipynb`-Dateien) ganz einfach per Doppelklick aus dem lokalen Dateisystem geöffnet werden.\n",
    "\n",
    "Habt ihr einmal Jupyter Notebooks auf eurem PC installiert, könnt ihr auch ganz einfach Praktikums-Templates herunterladen und dürft diese gerne zum Auswerten eurer Messdaten verwenden. \n",
    "\n",
    "### Anaconda\n",
    "Für eine vollständige Python Installation empfehlen wir als Alternative zu Jupyter Lab Desktop das Programm **Anaconda**. Mittels Anaconda werden sehr viele Bibliotheken bereits mitinstalliert, um die ihr euch später keine weiteren Gedanken mehr machen müsst. Eine Anleitung, wie ihr hiermit nicht nur Python, sondern auch Notebooks und auch Jupyter Lab auf euren PC bekommt, findet ihr im folgenden Video:\n",
    "\n",
    "<iframe width=\"560\" height=\"315\" src=\"https://www.youtube.com/embed/WUeBzT43JyY?si=slVswaODWeloo1BQ\" title=\"YouTube video player\" frameborder=\"0\" allow=\"accelerometer; autoplay; clipboard-write; encrypted-media; gyroscope; picture-in-picture; web-share\" allowfullscreen></iframe>\n",
    "\n",
    "## 🐍 Programmieren mit Python\n",
    "Es gibt zahlreiche Tutorials und Online-Ressourcen, die euch das Erlernen der Python-Programmierung leicht und verständlich ermöglichen. Für die Tutorials sind folgende Grundkenntnisse erforderlich, die ihr innerhalb der Tutorials erlernen könnt:\n",
    "\n",
    "* **Grundlagen:** Schleifen, Funktionen, Listen, Tupel, Mengen, Wörterbücher.\n",
    "* **Algebra:** [numpy](https://numpy.org), [scipy](https://scipy.org)\n",
    "  * **Fit/Modellanpassungen:** [lmfit](https://pypi.org/project/lmfit/), [scipy](https://scipy.org) (z.B. curve_fit), [numpy](https://numpy.org) (z.B. polyfit)\n",
    "  * **Spektralanalyse:** [scipy](https://scipy.org) (z.B. rfft)\n",
    "* **Datenverarbeitung:** [pandas](https://pandas.pydata.org) (z.B. DataFrames)\n",
    "* **Datenvisualisierung:** [matplotlib](https://matplotlib.org)\n",
    "\n",
    "```{seealso}\n",
    "Installationshinweise & Grundlagen der Programmierung in Python findet ihr im [Github von Nils Fleischer](https://nbviewer.jupyter.org/github/nilsleiffischer/python-course/blob/master/setup.ipynb). \n",
    "```\n"
   ]
  },
  {
   "cell_type": "code",
   "execution_count": null,
   "id": "a3fe4079-b6ba-4c59-80b9-2b747b3e7e54",
   "metadata": {},
   "outputs": [],
   "source": []
  }
 ],
 "metadata": {
  "kernelspec": {
   "display_name": "Python 3",
   "language": "python",
   "name": "python3"
  },
  "language_info": {
   "codemirror_mode": {
    "name": "ipython",
    "version": 3
   },
   "file_extension": ".py",
   "mimetype": "text/x-python",
   "name": "python",
   "nbconvert_exporter": "python",
   "pygments_lexer": "ipython3",
   "version": "3.9.18"
  }
 },
 "nbformat": 4,
 "nbformat_minor": 5
}