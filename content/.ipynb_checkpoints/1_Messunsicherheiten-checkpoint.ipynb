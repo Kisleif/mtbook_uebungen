{
 "cells": [
  {
   "cell_type": "markdown",
   "id": "7392a1d2-82e1-4f27-9093-3109d882a3d3",
   "metadata": {},
   "source": [
    "# Messunsicherheiten\n",
    "\n",
    "::::::{margin}\n",
    ":::::{grid}\n",
    "::::{grid-item-card}\n",
    ":class-header: bg-light\n",
    "Messunsicherheit erklärt in 4 Minuten (Kistler Group)\n",
    "\n",
    "<iframe width=\"200\" height=\"113\" src=\"https://www.youtube.com/embed/8jK2o9NuA5E\" title=\"YouTube video player\" frameborder=\"0\" allow=\"accelerometer; autoplay; clipboard-write; encrypted-media; gyroscope; picture-in-picture; web-share\" allowfullscreen></iframe>\n",
    "::::\n",
    ":::::\n",
    "::::::\n",
    "\n",
    "Jede Messung, egal ob von Temperatur, Strecke oder Geschwindigkeit, ist immer mit einer Messunsicherheit verbunden. Der Messwerte, ohne Angabe einer Messunsicherheit, ist daher wertlos. \n",
    "Die Messunsicherheit ist ein Maß für die Qualität der Messung: Desto kleiner die Messabweichung, desto *genauer* oder *präziser* ist die Messung. \n",
    "\n",
    "\n",
    ":::{figure-md} coffee_toleranz\n",
    "<img src=\"draw/coffee_toleranz.jpg\" alt=\"coffee_toleranz\" class=\"bg-primary mb-1\" width=\"800px\" label = coffee_toleranz>\n",
    "\n",
    "Kaffeehalter und Kaffeebecher zeigen den gleichen Wert auf dem Messschieber an. Warum passt es trotzdem nicht?\n",
    ":::\n",
    "\n",
    "In {numref}`coffee_toleranz` ist ein Beispiel aus der Produktion gegeben. Für einen Kaffeebecher mit Durchmesser $x = 55\\,\\mathrm{mm}$ soll eine einfach Halterung produziert werden. Der Durchmesser $x$ des Kaffeebechers wird mit dem Messschieber bestimmt und an zwei Firmen weitergegeben. Im ersten Produkt ist der Halter zu groß, der Becher rutscht durch. Im zweiten Fall wird das Loch noch einmal mit dem Messschieber überprüft. Dieser zeigt den richtigen Wert von $55\\,\\mathrm{mm}$ an, dennoch passt der Becher nicht. Woran liegt das?\n",
    "\n",
    "## Toleranz\n",
    "\n",
    "Was in diesem Beispiel fehlt ist die Angabe der *Toleranz*. \n",
    "Die Toleranz erhält man durch die Bestimmung der *Messunsicherheit*. \n",
    "Ohne die Kenntnis der verwendeten Messinstrumente, kann keine Fertigungstoleranz spezifiziert werden. \n",
    "\n",
    "Es gibt zwei Möglichkeiten, die Messunsicherheit zu bestimmten:\n",
    "1. Der Durchmesser des Kaffeebechers wird 100 Mal gemessen. Dadurch erhalten wir eine Streuung der Messwerte, woraus ein Mittelwert der Streuung berechnet werden kann. Hierfür werden Formeln aus statistischen Mathematik verwendet, um die Messunsicherheit und somit die Toleranz zu bestimmen. \n",
    "2. Mittels dem Datenblatt des Herstellers des Messschiebers können die Spzifikationen direkt abgelesen werden. Es ist ratsam trotzdem noch mehrere Messungen durchzuführen, 10 genügen in den meisten Fällen aus. Die Angaben aus dem Datenblatt werden mit den gemittelten Streuwerten kombiniert und sollten eine ähnliche Toleranz ergeben.  \n",
    "\n",
    "```{admonition} Beispiel: Datenblatt eines digitalen Messschiebers\n",
    ":class: dropdown\n",
    "Laut [Angaben des Herstellers](https://shop.mitutoyo.de/web/mitutoyo/de_BE/mitutoyo/01.03.07a/Digital%20ABS%20Messschieber/$catalogue/mitutoyoData/PR/500-500-10/index.xhtml) ist die zulässige Längenmessabweichung (MPE E: maximum permissible error  = maximal zulässiger Wert der Messabweichung der Längenmessung) 0,05mm. Der Ziffernschrittwert von 0,01mm gibt die minimale Änderung des Messwertes auf der Skala an. Bei einem Digital-Messschieber ist dies die letzte Stelle der Digitalanzeige. \n",
    ":::{figure-md} messschieber\n",
    "<img src=\"pictures/datenblatt_messschieber.jpg\" alt=\"datenblatt_messschieber\" class=\"bg-primary mb-1\" width=\"800px\" label = datenblatt_messschieber>\n",
    "\n",
    "Screenshot der Produktdetails von der [Webseite](https://shop.mitutoyo.de/web/mitutoyo/de_BE/mitutoyo/01.03.07a/Digital%20ABS%20Messschieber/$catalogue/mitutoyoData/PR/500-500-10/index.xhtml) des Herstellers.\n",
    ":::\n",
    "```\n",
    "\n",
    "Der Messwert inklusive Toleranz (Messunsicherheit) muss an den Hersteller für Kaffeebecherhalter weitergegeben werden. Entweder in Form der *absoluten* Messunsicherheit $A$, die die gleiche Einheit wie der Messwert hat:\n",
    "\n",
    "$$x \\pm A = 55 \\pm 1\\,\\mathrm{mm}$$\n",
    "\n",
    "oder in Form der *relativen* Messunsicherheit:\n",
    "\n",
    "$$x \\pm A_\\mathrm{rel} = x \\pm \\frac{A}{x} = 55\\,\\mathrm{mm} \\pm 1,8\\%$$\n",
    "\n",
    "Hier ist die Einheit *einheitenlos* und wird in Prozent (%) wird.\n",
    "\n",
    "```{warning}\n",
    "Als wichtigste Erkenntnis gilt es festzuhalten, dass zu jeder Aussage zu zufälligen Abweichungen die zugehörige Wahrscheinlichkeit für das Zutreffen dieser Aussage zwingend erforderlich ist.\n",
    "Messwertangaben ohne Aussage zur Wahrscheinlichkeit bezüglich der zufälligen Abweichungen sind in der betrieblichen Praxis nicht brauchbar!\n",
    "```\n",
    "\n",
    "\n",
    "```{admonition} Mess*unsicherheit* vs. Mess*fehler*\n",
    ":class: dropdown\n",
    "\n",
    "Früher hat man statt *Abweichung* noch den Begriff *Messfehler* verwendet. Man dachte, dass man mit genügend Aufwand, Sorgfalt und bestmöglicher Technologie den Fehler vollständig eliminieren könne. Spätestens seit der Theorie der *Quantenphysik* ist uns allerdings bekannt, dass zufällige Einflüsse auf die beobachteten Messgrößen  unvermeidlich sind und auch nicht vorhergesagt werden können. Statt eines einzig *wahren* Wertes, $x_w$, werden in der Quantenphysik Messgrößen durch deren Erwartungswerte vorhergesagt. Diesen Messgrößen liegt eine Wahrscheinlichkeitsdichte zu Grunde, dessen Varianz (bzw. Standardabweichung) nicht verschwindet! Somit werden für ein und dieselbe physikalische Messgröße verschiedene Ergebnisse gemessen, obwohl nahezu identische Bedingungen herrschen. Das Eintreten eines bestimmten Messergebnisses ist an eine bestimmte Wahrscheinlichkeit gekoppelt, mit der dieses Ergebnis eintritt. \n",
    "```\n",
    "\n",
    "## Ursache von Messunsicherheiten\n",
    "\n",
    "Warum erhält man überhaupt verschiedene Messwerte mit demselben, hochpräzisen Messinstrument? Das liegt daran, dass auf die Messung verschiedene Einflussfaktoren einwirken. z.B. Umgebungstemperatur, wie ich den Messschieber bediene und die Digitalanzeige haben Einfluss auf das Messergebnis, wie in {numref}`fehlerklassen` dargestellt.\n",
    "\n",
    ":::{figure-md} fehlerklassen\n",
    "<img src=\"draw/fehlerklassen.jpg\" alt=\"fehlerklassen\" width=\"600px\" label = fehlerklassen>\n",
    "\n",
    "Vereinfachtes Modell eines Messsystems mit Störeinflüssen.\n",
    ":::\n",
    "\n",
    "Folgende Störungen können während der Messung auftreten:\n",
    "* **Innere Störgrößen:** Hierbei handelt es sich um Störgrößen im Messgerät selbst. Beispiele dafür sind Alterungseffekte an für die Messung wichtigen Bauteilen. Bei Drehspulinstrumenten oder Waagen ist eine Feder eingebaut, deren Eigenschaften sich im Laufe der Lebensdauer verändert, was sich in einer fehlerhaften Anzeige bemerkbar macht.\n",
    "* **Äußere Störgrößen:** Messungen werden meist durch mehrere unerwünschte Einflüsse gestört. Eine Widerstandsbrückenschaltung ist beispielsweise temperaturabhängig. Hierbei gibt es sowohl systematische Abweichungen, d.h. man kann den Einfluss isolieren und deterministisch beschreiben und die Messung korrigieren. Eine andere Art von äußeren Störgrößen sind zufällige Einstreuungen, die man nicht kompensieren kann. Zu ihrer Unterdrückung kommen u. a. einfache Mittelwertfilter zum Einsatz.\n",
    "* **Beobachtungsfehler:** Wenn du eine Messung durchführst, kannst auch du, der Beobachter, zu einer Fehlerquelle werden, wenn z.B. die Anzeige falsch abgelesen wird (Müdigkeit, Sehschärfe, Übung). \n",
    "* **Dynamische Fehler:** Jedes Messsystem braucht eine bestimmte Zeit um sich einzupendeln. Daher sollte man immer einen Moment warten, bis man das Messsignal abliest. Die Abweichung entspricht hierbei der Größe des Toleranzbereichs. Optimalerweise wird das gemessene Signal der eigentlichen Messgröße verzögerungsfrei folgen. Sollte dies nicht der Fall sein, wird dies als dynamischer Fehler bezeichnet.\n",
    "* **Rückwirkung** Jedes Messgerät braucht für den Messprozess Energie oder Leistung, die dem Prozess entzogen wird. Der Wert der Messgröße mit angeschlossener Messeinrichtung unterscheidet sich vom Wert, der ohne Messeinrichtung erreicht worden wäre. Auch bei externen Spannungsversorgungen entsteht eine Rückwirkung und Kopplung aufgrund von Wärme, die äußere Störgrößen antreibt. \n",
    "* **Quantisierungsfehler**: Diese Fehler entstehen bei der Digitalisierung. Es existiert nur eine endliche Anzahl von Möglichkeiten einen analogen Messwerte mittels Bits darzustellen.\n",
    "\n",
    "Um die Messunsicherheiten und Störungen zu reduzieren, sollten immer die vom Hersteller spezifizierten Normalbedingungen (Messbereich, Messgenauigkeit, Betriebsbedingung, Einbauvorschrift, Energieversorgung, Abmessungen) eingehalten werden."
   ]
  },
  {
   "cell_type": "markdown",
   "id": "df8ce023-33bf-4997-80fb-c4a73db7420e",
   "metadata": {},
   "source": [
    "## Typen von Unsicherheiten\n",
    "\n",
    "Messungen liefern dennoch lediglich Schätzwerte für die *wahren* Werte einer Größe. Es gibt prinzipiell keine Möglichkeit, den wahren Wert einer Messgröße zu messen. Im Rahmen internationaler Anstrengungen für eine einheitliche Bewertung von Einflussgrößen auf eine Messung werden zwei Kategorien von Methoden der Berechnung von Unsicherheiten unterschieden [[GUM]](https://www.iso.org/sites/JCGM/GUM/JCGM100/C045315e-html/C045315e.html?csnumber=50461):\n",
    "- **Typ A ([\"Zufällige Abweichung\"](1_StatistischeMessunsicherheit)):** Berechnung der Messunsicherheit durch statistische Analyse der Messungen\n",
    "- **Typ B ([\"Systematische Abweichung\"](1_SystematischeMessabweichung)):** Berechnung der Messunsicherheit mit anderen Mitteln als der statistischen Analyse\n",
    "\n",
    ":::{figure-md} zielscheibe\n",
    "<img src=\"draw/zielscheibe.jpg\" alt=\"zielscheibe\" class=\"bg-primary mb-1\" width=\"800px\" label = zielscheibe>\n",
    "\n",
    "Darstellung von zufälligen und systematischen Fehlern anhand einer Zielscheibe. Die zufällige Abweichung gibt eine Art Streuung, die *Präzision*, der Messwerte an. Die systematische Abweichung gibt die *Genauigkeit* an.\n",
    ":::\n",
    "\n",
    "### Typ A-Unsicherheiten (\"Zufällige Fehler\")\n",
    "\n",
    "Dies sind Messunsicherheiten, die nicht einseitig gerichtet sind, sondern einer zufälligen Streuung der Messwerte zugrunde liegen. Zur Behandlung dieser Messunsicherheiten nutzt man die Stochastik (Wahrscheinlichkeitslehre und Statistik). \n",
    "* Zufällige Fehler kennt man nicht, er ist folglich **nicht korrigierbar**\n",
    "* Sie sind unter gleichen Messbedingungen auch **nicht reproduzierbar** \n",
    "* Sie machen ein Ergebnis **unpräzise**\n",
    "* Es sind **wiederholte Messungen und statistische Analysen** notwendig, wodurch Mittelwert und Standardabweichung von sogenannten *Stichproben* ermittelt wird. \n",
    "\n",
    "Wie gewinnt man aus einer Messreihe $x_j$ den besten Schätzewert, der mit maximaler Wahrscheinlichkeit am nähesten am *wahren* Wert, $x_w$, liegt? Mit welcher Wahrscheinlichkeit liegt das Messergebnis innerhalb eines bestimmten Intervalls um den wahren Wert, $x = x_w + \\Delta x ?$ Hiermit befassen wir uns im Kapitel [Statistische Messunsicherheiten](1_StatistischeMessunsicherheit).\n",
    "\n",
    "### Typ B-Unsicherheiten (\"Systematische Fehler\")\n",
    "\n",
    "* Bei systematischen Unsicherheiten handelt es sich um **reproduzierbare** Messunsicherheiten. \n",
    "* Sie werden durch **Unvollkommenheit in den Messgeräten** und Messverfahren verursacht.\n",
    "* Sie können durch Aufwand und Kalibrierung verbessert werden, was *nicht* für zufällige Messabweichungen gilt. \n",
    "* Sie machen ein Ergebnis **unrichtig**\n",
    "* Systematische Messabweichungen (z.B. Kennlinienfehler) sollten in aller Regel am besten **korrigiert werden**, wenn dies möglich ist. Ansonsten sollte mindestens eine Angabe der Messabweichung erfolgen.\n",
    "\n",
    "::::::{margin}\n",
    ":::::{grid}\n",
    "::::{grid-item-card}\n",
    ":class-header: bg-light\n",
    "Zufällige und systematische Messabweichungen (Christian Fingerhut)\n",
    "\n",
    "<iframe width=\"200\" height=\"113\" src=\"https://www.youtube.com/embed/_XZ7r-PVwHY\" title=\"YouTube video player\" frameborder=\"0\" allow=\"accelerometer; autoplay; clipboard-write; encrypted-media; gyroscope; picture-in-picture; web-share\" allowfullscreen></iframe>\n",
    "::::\n",
    ":::::\n",
    "::::::\n",
    "\n",
    "Es gibt keine allgemeingültige Definition oder allgemeine Verfahren zur Korrektur. Das heißt für jeden Fall müssen neue Verfahren entwickelt werden. Hiermit befassen wir uns im Kapitel [Systematische Messabweichungen](1_SystematischeMessabweichung)."
   ]
  },
  {
   "cell_type": "markdown",
   "id": "f83d2733-dd71-4a03-8d78-b91fe77b2f0e",
   "metadata": {},
   "source": [
    "## Schreibweise eines Messwertes mit Messabweichung\n",
    "\n",
    "::::::{margin}\n",
    ":::::{grid}\n",
    "::::{grid-item-card}\n",
    ":class-header: bg-light\n",
    "Absoluter und relativer Messfehler || Fehlerrechnung (Physikcoach)\n",
    "\n",
    "<iframe width=\"200\" height=\"113\" src=\"https://www.youtube.com/embed/HqgrqLXmEN0\" title=\"YouTube video player\" frameborder=\"0\" allow=\"accelerometer; autoplay; clipboard-write; encrypted-media; gyroscope; picture-in-picture; web-share\" allowfullscreen></iframe>\n",
    "::::\n",
    ":::::\n",
    "::::::\n",
    "\n",
    "Die **Gesamt-Messabweichung** einer Messgröße $x$ setzt sich also wiefolgt zusammen:\n",
    "\n",
    "$$A = A_r +  A_s$$\n",
    "\n",
    "wobei $A_r$ die zufälligen Messunsicherheiten und die $A_s$ systematische Messabweichungen sind. Ein Messwert setzt sich also zusammen aus dem *wahren* oder *richtigen* Wert, den wir niemals kennen werden, und der Messabweichung. Es gelten folgende Zusammenhänge:\n",
    "\n",
    "* Der **ermittelte Messwert** lässt sich wie folgt schreiben, wobei $x_w$ der *wahre*, aber uns unbekannte, Wert ist. $A$ ist die Messabweichung: \n",
    "\n",
    "$$x = x_w + A$$\n",
    "\n",
    "* Die **absolute Messabweichung** ergibt sich aus Umstellen der obigen Gleichung. Häufig verwendet man auch die Notation $\\Delta x$ für die Angabe der absoluten Messabweichung.\n",
    "\n",
    "$$A = x - x_w = \\Delta x$$\n",
    "\n",
    "* Bei Angabe der **relativen Messabweichung** wird die Messabweichung auf einen Referenzwert, $r$, bezogen, der entweder der Messwert selber ist ($r = x$), oder manchmal auch die Spanne ($r = x_\\mathrm{max} - x_\\mathrm{min}$) oder Maximalwert/Messbereichsendwert ($r = x_\\mathrm{max}$):\n",
    "\n",
    "$$ A_\\mathrm{rel} = \\frac{A}{r} = \\frac{\\Delta x}{r}$$\n",
    "\n",
    "## Signifikante Stellen \n",
    "\n",
    "Die **Anzahl der Nachkommastellen** eines Messwertes ist niemals größer als die der angegebenen Messabweichung oder Unsicherheit. Die Anzahl der Nachkommastellen der Messabweichung wird über **signifikante Stellen** (= angegebene Ziffern ohne führende Nullen) definiert. Je mehr signifikante Stellen angegeben werden, desto größer ist die Genuigkeit, die reklamiert wird. Es gelten folgende Rechenoperationen nach DIN1333:\n",
    "\n",
    "- Bei **Addition von Größen** bekommt das Ergebnis genauso viele Nachkommastellen wie die Zahl mit den *wenigsten* Nachkommastellen.\n",
    "- Bei **Multiplikation von Größen** bekommt das Ergebnis genauso viele signifikante Stellen wie die Zahl mit den wenigsten signifikanten Stellen.\n",
    "- **Messunsicherheiten** werden auf eine signifikante Stelle gerundet. Eine Ausnahme existiert, wenn die erste Ziffer eine \"1\" ist, weil sonst Rundungsfehler schnell zu groß werden. Beispiel: $u(g) = 0,1562\\,\\mathrm{m/s^2} = 0,16\\,\\mathrm{m/s^2}$. Die Darstellung $g = (9,81 \\pm 0,1562)\\,\\mathrm{m/s^2}$ wäre unsinnig, da die Genauigkeit auf zwei Nachkommastellen durch den Messwert beschränkt ist. \n",
    "- **Messwerte** werden so angegeben, dass die letzte signifikante Stelle die gleiche Größenordnung hat, wie die Messunsicherheit: Die Angabe $H=(13,13\\pm 1)\\,\\mathrm m$ ist sinnlos, richtig wäre $H=(13\\pm 1)\\,\\mathrm m$.\n",
    "\n",
    "Um Rundungsfehler zu reduzieren, führen Sie in den Berechnungen so viele signifikante Stellen der Messunsicherheit mit, wie nötig.\n",
    "\n",
    "## Grafische Darstellung eines Messwertes mit Messabweichung\n",
    "\n",
    "Die grafische Darstellung eines solchen Messwertes in einem Diagramm kann im folgenden Code-Block ausgeführt und angesehen werden. Prinzipiell gilt, dass für jeden Messwert in der Regel ein solcher **Fehlerbalken** stets anzugeben ist. "
   ]
  },
  {
   "cell_type": "code",
   "execution_count": 1,
   "id": "8e8713ce-c6a7-415e-9122-d097def2bc4b",
   "metadata": {
    "tags": [
     "hide-input"
    ]
   },
   "outputs": [
    {
     "data": {
      "text/html": [
       "        <script type=\"text/javascript\">\n",
       "        window.PlotlyConfig = {MathJaxConfig: 'local'};\n",
       "        if (window.MathJax && window.MathJax.Hub && window.MathJax.Hub.Config) {window.MathJax.Hub.Config({SVG: {font: \"STIX-Web\"}});}\n",
       "        if (typeof require !== 'undefined') {\n",
       "        require.undef(\"plotly\");\n",
       "        requirejs.config({\n",
       "            paths: {\n",
       "                'plotly': ['https://cdn.plot.ly/plotly-2.12.1.min']\n",
       "            }\n",
       "        });\n",
       "        require(['plotly'], function(Plotly) {\n",
       "            window._Plotly = Plotly;\n",
       "        });\n",
       "        }\n",
       "        </script>\n",
       "        "
      ]
     },
     "metadata": {},
     "output_type": "display_data"
    },
    {
     "data": {
      "image/png": "[encoded data removed]",
      "text/plain": [
       "<Figure size 400x400 with 1 Axes>"
      ]
     },
     "metadata": {},
     "output_type": "display_data"
    }
   ],
   "source": [
    "#Benötigte Libraries:\n",
    "import numpy as np\n",
    "import pandas as pd\n",
    "import matplotlib.pyplot as plt\n",
    "import plotly.offline as py\n",
    "py.init_notebook_mode(connected=True)\n",
    "import plotly.graph_objs as go\n",
    "import plotly.tools as tls\n",
    "import seaborn as sns\n",
    "import time\n",
    "import warnings\n",
    "warnings.filterwarnings('ignore')\n",
    "\n",
    "# MatplotLib Settings:\n",
    "plt.style.use('default') # Matplotlib Style wählen\n",
    "plt.figure(figsize=(4,4)) # Plot-Größe\n",
    "#plt.xkcd()\n",
    "plt.rcParams['font.size'] = 10; # Schriftgröße\n",
    "\n",
    "x = [1.0]  # Datenwerte für x-Achse, hier Nr der Messung\n",
    "y = [1.0]  # Messwert (Datenpunkt)\n",
    "delta_y = [0.3] # Messabweichung\n",
    "\n",
    "# Diagrammdarstellung:\n",
    "plt.errorbar(x, y, yerr=delta_y, fmt='bo', color=\"tab:blue\")\n",
    "plt.xlim(0.5, 1.5)\n",
    "#plt.ylim(0.,1.1*(max(y)+max(delta_y)))\n",
    "plt.ylabel(\"U (V)\")\n",
    "plt.xlabel(\"Nr. der Messung\")\n",
    "plt.show()"
   ]
  },
  {
   "cell_type": "markdown",
   "id": "505c205e-fe9e-402e-9c9e-5ac56f6398f2",
   "metadata": {},
   "source": [
    "## Diskrepanz und Konsistenz\n",
    "\n",
    "Die Diskrepanz zweier Messwerte derselben Größe ist der Absolutbetrag ihrer Differenz. Zwei Messungen sind konsistent, wenn ihre Diskrepanz geringer ist, als die (kleinere der) Messunsicherheiten:\n",
    "- $g = (9,73 \\pm 0,05)\\,\\mathrm{m/s^2}$ und $g = (9,76 \\pm 0,04)\\,\\mathrm{m/s^2}$ sind *konsistent*, nicht jedoch $g = (9,71 \\pm 0,02)\\,\\mathrm{m/s^2}$ und $g = (9,76 \\pm 0,04)\\,\\mathrm{m/s^2}$\n",
    "- Ist $g = (8.9 \\pm 1,5)\\,\\mathrm{m/s^2}$ das Ergebnis einer Messung des Ortsfaktors, dann ist die Messung zwar nicht sonderlich präzise, aber mit dem Literaturwert von $g = 9,81\\,\\mathrm{m/s^2}$ vereinbar."
   ]
  },
  {
   "cell_type": "code",
   "execution_count": 2,
   "id": "bf44aba5-7b46-49dd-841e-ea5708ff91c7",
   "metadata": {
    "tags": [
     "hide-input"
    ]
   },
   "outputs": [
    {
     "data": {
      "image/png": "[encoded data removed]",
      "text/plain": [
       "<Figure size 400x400 with 1 Axes>"
      ]
     },
     "metadata": {},
     "output_type": "display_data"
    }
   ],
   "source": [
    "plt.style.use('default') # Matplotlib Style wählen\n",
    "plt.figure(figsize=(4,4)) # Plot-Größe\n",
    "#plt.xkcd()\n",
    "plt.rcParams['font.size'] = 10; # Schriftgröße\n",
    "\n",
    "y=[9.73, 9.76, 9.71, 9.76, 8.9] # Messung \n",
    "u_y=[0.05,0.04,0.02,0.04,1.5] # Unsicherheit d\n",
    "y_w=9.81 # wahrer / richtiger Wert \n",
    "\n",
    "plt.errorbar([1, 2, 3,4,5], y, yerr=u_y, fmt='bo', color = \"tab:blue\")\n",
    "\n",
    "plt.axhline(y_w, color='tab:red', linewidth=3)\n",
    "plt.text(1.2, 9.83, 'wahrer Wert', color='tab:red') \n",
    "\n",
    "plt.ylabel(r\"Erdbeschleunigung\")\n",
    "plt.xlabel(\"Nr. der Messung\")\n",
    "plt.title(\"Messungen der Erdbeschleunigung\")\n",
    "plt.ylim([8.8,9.9])\n",
    "plt.grid()\n",
    "plt.show()"
   ]
  },
  {
   "cell_type": "markdown",
   "id": "52fc1345-133b-4868-a2a7-94546ae12752",
   "metadata": {},
   "source": [
    "Nur einer der Messwerte überlappt mit dem *wahren* Wert der Erdbeschleunigung Die Fehlerbalken der zweiten Messung hingegen sind davon entfernt, in den *wahren* Bereich überzulappen. D.h. es existiert hier ein Widerspruch zu vorherigen Messungen, die den wahren Wert kennzeichnete. Würde es sich hierbei nicht um die Messung der Erdbeschleunigung, sondern um die einer Natur*konstante* handeln, gäbe es sogar einen Widerspruch zum SI-Einheitensystem. "
   ]
  },
  {
   "cell_type": "code",
   "execution_count": null,
   "id": "3eab81ba-d725-4192-bbc4-2e9160c2272c",
   "metadata": {},
   "outputs": [],
   "source": []
  },
  {
   "cell_type": "code",
   "execution_count": null,
   "id": "107c0cac-4f27-4c84-ae0b-650a5363b4d8",
   "metadata": {},
   "outputs": [],
   "source": []
  }
 ],
 "metadata": {
  "kernelspec": {
   "display_name": "Python 3",
   "language": "python",
   "name": "python3"
  },
  "language_info": {
   "codemirror_mode": {
    "name": "ipython",
    "version": 3
   },
   "file_extension": ".py",
   "mimetype": "text/x-python",
   "name": "python",
   "nbconvert_exporter": "python",
   "pygments_lexer": "ipython3",
   "version": "3.9.12"
  }
 },
 "nbformat": 4,
 "nbformat_minor": 5
}
