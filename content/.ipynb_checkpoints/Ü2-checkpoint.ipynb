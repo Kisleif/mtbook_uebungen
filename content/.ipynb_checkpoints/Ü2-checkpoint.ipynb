{
 "cells": [
  {
   "cell_type": "code",
   "execution_count": 3,
   "id": "606d3e93-54de-40db-bccb-9ce6a45535b8",
   "metadata": {},
   "outputs": [],
   "source": [
    "import numpy as np\n",
    "m1 = np.array([10.13,10.12,10.13,10.12,10.14,10.09,10.14,10.08,10.09,10.11,10.12,10.07,10.12,10.12,10.06,10.10,10.08,10.06,10.10,10.09,10.06,10.11,10.09,10.07,10.06])\n",
    "m2 = np.array([10.14,10.14,10.11,10.13,10.14,10.09,10.12,10.06,10.07,10.12,10.05,10.07,10.13,10.12,10.07,10.15,10.13,10.06,10.11,10.12,10.06,10.14,10.07,10.07,10.06])"
   ]
  },
  {
   "cell_type": "code",
   "execution_count": 5,
   "id": "2c2ce1eb-1cf7-4d40-8233-bbc669bf72eb",
   "metadata": {},
   "outputs": [
    {
     "name": "stdout",
     "output_type": "stream",
     "text": [
      "10.0984\n",
      "10.1012\n"
     ]
    }
   ],
   "source": [
    "print(m1.mean())\n",
    "print(m2.mean())"
   ]
  },
  {
   "cell_type": "code",
   "execution_count": 6,
   "id": "057486d0-085d-44b8-9b09-253337dd1df5",
   "metadata": {},
   "outputs": [
    {
     "name": "stdout",
     "output_type": "stream",
     "text": [
      "0.02571847584908547\n",
      "0.03278048199767654\n"
     ]
    }
   ],
   "source": [
    "print(m1.std())\n",
    "print(m2.std())"
   ]
  },
  {
   "cell_type": "code",
   "execution_count": 7,
   "id": "239d2083-fe2e-4dfe-b325-31eab32c1be9",
   "metadata": {},
   "outputs": [
    {
     "name": "stdout",
     "output_type": "stream",
     "text": [
      "0.2016000000000009\n"
     ]
    }
   ],
   "source": [
    "print(10.3 - m1.mean())"
   ]
  },
  {
   "cell_type": "code",
   "execution_count": 21,
   "id": "27615d87-2e92-4a29-a6f1-f0dad0e58614",
   "metadata": {},
   "outputs": [
    {
     "name": "stdout",
     "output_type": "stream",
     "text": [
      "12\n"
     ]
    }
   ],
   "source": [
    "t = np.array([117,116,119,117,121,115,126,125,132,118,120,124])\n",
    "n = len(t)\n",
    "print(n)"
   ]
  },
  {
   "cell_type": "code",
   "execution_count": 22,
   "id": "0ab19185-6709-4a1b-a623-f220ee2fd8f8",
   "metadata": {},
   "outputs": [
    {
     "name": "stdout",
     "output_type": "stream",
     "text": [
      "120.83333333333333\n",
      "4.810289896553938\n"
     ]
    }
   ],
   "source": [
    "print(t.mean())\n",
    "print(t.std())"
   ]
  },
  {
   "cell_type": "code",
   "execution_count": 23,
   "id": "b8901ea7-98b5-42ba-9cfa-a57b5a9a9af9",
   "metadata": {},
   "outputs": [
    {
     "name": "stdout",
     "output_type": "stream",
     "text": [
      "3.056332994404437\n"
     ]
    }
   ],
   "source": [
    "print(t.std()/np.sqrt(n)*2.201)"
   ]
  },
  {
   "cell_type": "code",
   "execution_count": 27,
   "id": "683d48cb-b2d7-4319-8b8e-f72db2948491",
   "metadata": {},
   "outputs": [
    {
     "name": "stdout",
     "output_type": "stream",
     "text": [
      "2.031543472531917\n"
     ]
    }
   ],
   "source": [
    "N = 24\n",
    "tsp = 2.069\n",
    "print(t.std()/np.sqrt(N)* tsp)"
   ]
  },
  {
   "cell_type": "code",
   "execution_count": 31,
   "id": "c242a80d-0c26-413f-b5bd-b47a759bebe4",
   "metadata": {},
   "outputs": [
    {
     "name": "stdout",
     "output_type": "stream",
     "text": [
      "19.4481\n"
     ]
    }
   ],
   "source": [
    "print((1.96*4.5/2)**2)"
   ]
  },
  {
   "cell_type": "code",
   "execution_count": 29,
   "id": "17aa8eda-b9bc-4811-a4ad-6c38bd3029ed",
   "metadata": {},
   "outputs": [
    {
     "data": {
      "text/plain": [
       "24.010000000000005"
      ]
     },
     "execution_count": 29,
     "metadata": {},
     "output_type": "execute_result"
    }
   ],
   "source": [
    "4.9**2"
   ]
  },
  {
   "cell_type": "code",
   "execution_count": null,
   "id": "230adb52-1f73-4880-9e03-cebfded5b7d8",
   "metadata": {},
   "outputs": [],
   "source": []
  }
 ],
 "metadata": {
  "kernelspec": {
   "display_name": "Python 3",
   "language": "python",
   "name": "python3"
  },
  "language_info": {
   "codemirror_mode": {
    "name": "ipython",
    "version": 3
   },
   "file_extension": ".py",
   "mimetype": "text/x-python",
   "name": "python",
   "nbconvert_exporter": "python",
   "pygments_lexer": "ipython3",
   "version": "3.9.12"
  }
 },
 "nbformat": 4,
 "nbformat_minor": 5
}
