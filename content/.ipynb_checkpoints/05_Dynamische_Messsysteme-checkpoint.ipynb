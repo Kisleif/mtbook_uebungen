{
 "cells": [
  {
   "cell_type": "markdown",
   "metadata": {},
   "source": [
    "# Dynamische Messsysteme\n",
    "\n",
    "\n",
    "```{tableofcontents}\n",
    "```"
   ]
  },
  {
   "cell_type": "markdown",
   "metadata": {},
   "source": [
    "## Zusammenfassung\n",
    "\n",
    "| Begriff | Beschreibung |\n",
    "|:--------------------|:----------------------------------------|\n",
    "|Amplitudengang|Das Verhältnis von Ein- zu Eingangssignal in Abhängigkeit von der Frequenz|\n",
    "|Phasengang|Die Differenz in der Phasenlage zwischen Ein- und Ausgangssignal einer Übertragungseinrichtung in Abhängigkeit von der Frequenz|\n",
    "|Frequenzgang|Komplexe Übertragungsfunktion („Transfer-Funktion“) eines LZI Systems.|\n",
    "|LZI System|Linear zeitinvariantes System ist sowohl linear (Homogenität und Superposition), als auch unabhängig von zeitlichen Verschiebungen (Zeitinvarianz). |\n",
    "|Tiefpass|Ein Übertragungssystem bei dem mit zunehmender Frequenz des Eingangssignals das resultierende Ausgangssignal kleiner wird.|\n",
    "| Differentialgleichung|Eine mathematische Gleichung für eine gesuchte Funktion von einer oder mehreren Variablen, in der auch Ableitungen dieser Funktion vorkommen|\n",
    "|Anstiegszeit|Eine Signalkenngröße, die angibt, in welcher Zeit ein Signal von 10% auf 90% des Maximalwertes angestiegen ist.|\n",
    "|Zeitkonstante|Dynamische Systeme werden durch ein oder mehrere Zeitkonstanten charakterisiert. Mit der Zeitkonstante ist wird der exponentiell ansteigende (abfallende) Prozess beschrieben. |\n",
    "|Sprungantwort|Die Sprungantwort ist das Ausgangssignal eines LZI-System, dem am Eingang die Sprungfunktion zugeführt wird.|\n",
    "|Impulsantwort|Die Impulsantwort, auch Gewichtsfunktion oder Stoßantwort genannt, ist das Ausgangssignal eines Systems, dem am Eingang ein Dirac-Impuls zugeführt wird. Sie wird in der Systemtheorie zur Charakterisierung von LZI-Systemen benutzt.|\n",
    "|Faltung|Mathematischer Operator aus der Funktionalanalysis: Zwei Funktionen „verschmieren“ miteinander, bzw bilden den gleitenden durchschnitt.|"
   ]
  },
  {
   "cell_type": "code",
   "execution_count": null,
   "metadata": {},
   "outputs": [],
   "source": []
  }
 ],
 "metadata": {
  "kernelspec": {
   "display_name": "Python 3",
   "language": "python",
   "name": "python3"
  },
  "language_info": {
   "codemirror_mode": {
    "name": "ipython",
    "version": 3
   },
   "file_extension": ".py",
   "mimetype": "text/x-python",
   "name": "python",
   "nbconvert_exporter": "python",
   "pygments_lexer": "ipython3",
   "version": "3.9.12"
  }
 },
 "nbformat": 4,
 "nbformat_minor": 4
}
