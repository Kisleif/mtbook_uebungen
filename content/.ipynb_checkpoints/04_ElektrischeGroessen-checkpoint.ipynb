{
 "cells": [
  {
   "cell_type": "markdown",
   "id": "2808e0e4-815e-49d1-8680-9d1e6610c8a6",
   "metadata": {},
   "source": [
    "# Messen elektrischer Größen\n",
    "\n",
    "```{tableofcontents}\n",
    "```"
   ]
  },
  {
   "cell_type": "markdown",
   "id": "a2e309a5-2c02-4dec-bb09-0137c84738c6",
   "metadata": {},
   "source": [
    "## Zusammenfassung\n",
    "\n",
    "| Begriff | Beschreibung |\n",
    "|:--------------------|:----------------------------------------|\n",
    "|Ausschlagverfahren|Der Messgröße wird Energie entzogen wird und in einen messgrößenproportionalen (Zeiger-) Ausschlag überführt.|\n",
    "|Blindleistung|Leistung, die in kapazitiven/induktiven Verbrauchern zum Auf- und Abbau des elektrischen/magnetischen Feldes benötigt wird. Die Blindleistung ruft zwar einen Stromfluss im elektrischen Leiter hervor, kann aber keinen realen Leistungsumsatz in Verbrauchern bewirken. |\n",
    "|Brückenschaltung|Messschaltung zur Umsetzung des Differenz-/Kompensationsverfahrens. Sie ist eine Parallelschaltung von zwei Spannungsteilern. Differenz der Ausgangsspannungen der zwei Spannungsteiler wird gemessen, welche im Kompensationsfall 0 ist.|\n",
    "|Drehspulmesswerk|(Veraltetes) Elektromechanisches Messwerk, das infolge der Kraftwirkung auf einen stromdurchflossen Leiter einen Zeigerausschlag, proportional zur Stromstärke liefert.|\n",
    "|Kompensationsverfahren|Der Messgröße wird eine gleichgroße, aber mit entgegengesetztem Vorzeichen versehene Kompensationsgröße gegenübergestellt. Zur Auswertung wird die Differenz von Messgröße und Kompensationsgröße ermittelt. Im Abgleichfall ist die Kompensationsgröße gleich der Messgröße und die Belastung der Messsignalquelle gleich 0.|\n",
    "|Messverstärker|filtert, linearisiert, verstärkt, normiert elektrische Größen und setzt sie in Bezug zur Masse.|\n",
    "|Scheinleistung|Wurzel aus der Summe der Quadrate von Wirk-und Blindleistung. In einem Wechselstromkreis mit Kapazitäten bzw. Induktivitäten beschreibt das Produkt aus Strom und Spannung die Leistung die scheinbar umgesetzt wird. Leistungsumsetzung ist nur mit der Wirkleistung möglich!|\n",
    "|Shunt|Parallel- oder Nebenwiderstand, wird häufig zur indirekten Strommessung verwendet. Ein Stromfluss durch den hochgenauen Shunt liefert einen Spannungsabfall, der gemessen wird und über den Widerstand des Shunts in den fließenden Strom umgerechnet werden kann. |\n",
    "|Wirkleistung|Der Teil der Leistung im Wechselstromkreis, die in andere Leistungen (z. B. Wärmeleistung) umgewandelt werden kann und über die Zeit Arbeit verrichteten kann.|"
   ]
  },
  {
   "cell_type": "code",
   "execution_count": null,
   "id": "562c5485-ccbf-45be-9f10-8ce8befa4926",
   "metadata": {},
   "outputs": [],
   "source": []
  }
 ],
 "metadata": {
  "kernelspec": {
   "display_name": "Python 3",
   "language": "python",
   "name": "python3"
  },
  "language_info": {
   "codemirror_mode": {
    "name": "ipython",
    "version": 3
   },
   "file_extension": ".py",
   "mimetype": "text/x-python",
   "name": "python",
   "nbconvert_exporter": "python",
   "pygments_lexer": "ipython3",
   "version": "3.9.12"
  }
 },
 "nbformat": 4,
 "nbformat_minor": 5
}
