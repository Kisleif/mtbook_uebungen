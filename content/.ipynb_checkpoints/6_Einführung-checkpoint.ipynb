{
 "cells": [
  {
   "cell_type": "markdown",
   "id": "ec1452a4-462f-4a32-b3d0-07ae355993b2",
   "metadata": {},
   "source": [
    "# Einführung"
   ]
  },
  {
   "cell_type": "markdown",
   "id": "f7157a56-93e0-4878-9ac0-4a93354efbc7",
   "metadata": {},
   "source": [
    "Bei der Messtechnik geht es darum physikalische Messgrößen aus dem Umwelt zu beobachten und diese mithilfe einer Messkette / einem Messsystem zugänglich zu machen. Im vorangegangenen Abschnitt haben wir uns mit dem Messsystem selber beschäftigt und wie elektrische Größen gemessen werden können. In diesem Abschnitt wollen wir nicht-elektrische Messgrößen mithilfe von Sensoren messbar machen. \n",
    "Sensoren wandeln eine nicht-elektrische Messgröße in eine elektrische um, wodurch anschließend die Kenntnisse der vorangeganenen Kapitel wieder angewendet werden können. \n",
    "\n",
    ":::{figure-md} messgroesse1\n",
    "<img src=\"draw/messgroesse.jpg\" alt=\"messgroesse1\" width=\"600px\" label = messgroesse1>\n",
    "\n",
    "Darstellung der Messkette.\n",
    ":::\n",
    "\n",
    "1. Die Messgröße wird mittels Sensor aufgenommen in ein elektrisches Signal gewandelt (ggf. wird es noch zusätzlich gefiltert und gegen äußerliche Störgrößen abgeschirmt).\n",
    "2. Das Messsignal wird mittels Multiplexer ausgewhält.\n",
    "3. Der Pegel des Messsignals wird an das Messsystem angepasst, also ggf. verstärkt oder abgeschwächt.\n",
    "4. Das Messsignal wird abgetastet, z.B. über Sample & Hold. Es liegt  liegt also zeitdiskret vor.\n",
    "5. Das Messsignal wird digitalisiert mittels Analog-Digital-Umwandler (ADU). Es liegt jetzt also wertediskret vor.\n",
    "6. Das Messsignal wird angezeigt und wird ggf. weitergeleitet (z.B. an eine Steuerungseinheit für Regelaufgaben und Automatisierungstechnik).\n",
    "\n",
    "## Äußere Störeinflüsse\n",
    "Wie schon unter 1. erwähnt, muss sicher gestellt sein, dass wirklich nur die gewünschte physikalische Messgröße vom Sensor aufgenommen wird und keine, oder nur wenig, Störungen wir elektromagnetische Verträglichkeit (EMV), hochfrequente Störwellen (WLAN, GHz) aus der Umgebung einkoppeln. Hierfür werden die Kabel abgeschirmt. Je höher die Übertragungsrate (Frequenz), desto mehr Störungen sind möglich. \n",
    "\n",
    "Moderne elektronische Schaltungen werden immer minimaler und die Bauteile liegen mitunter sehr dicht beinander. Durch diese kompakte Bauweise können mehr elektro-magnetische Kopplungen, Schwingungen und Störsignale in die Messung einkoppeln. \n",
    "\n",
    "## Filtern von Störeinflüssen\n",
    "Zur Vermeidung und Reduzierung von Störeinflüssen werden Filter verwendet, die Störsignale mit Frequenzen außerhalb des Nutzsignalbereichs unterdrücken. \n",
    "Vorrangig dienen hierzu analoge Filter 1. und 2. Ordnung. Bei Filtern höherer Ordnung muss die *Welligkeit* der Filter berücksichtigt werden. Diesen werden beispielsweise eingesetzt um Netzbrummen zu reduzieren. \n",
    "\n",
    "Rundfunksender oder Mobilfunknetze produzieren Störsignale bei hohen Frequenzen. Um diese zu Unterdrücken werden **Tiefpass-Filter** eingesetzt. **Bandpass-Filter** können benutzt werden um die Nutzbandbreite einzugrenzen und somit das Signal-Rausch-Verhältnis zu verbssern. \n",
    "\n",
    "## Verarbeitung eines Messsignals\n",
    "Häufig werden rauscharme und sehr leistungsfähige **Operationsverstärker** benutzt, bei denen über Widerstände (im einfachsten Fall lediglich 2 Widerstände) die **Verstärkung** eingestellt werden kann. \n",
    "\n",
    "Damit Sensor und Messsignalverarbeitung möglichst rückwirkungsfrei sind, werden **Impedanzwandler** eingesetzt. "
   ]
  },
  {
   "cell_type": "markdown",
   "id": "fef03bc1-0622-4f21-87d5-d7897acebcb8",
   "metadata": {},
   "source": [
    "## Klassifizierung von Sensoren\n",
    "\n",
    "### Passive Sensoren\n",
    "Passive Sensoren verändern ihre elektrischen Eigenschaften wenn eine externe physikalische Größe auf diese einwirkt. Ein Beispiel hierfür ein Widerstand der seinen Wert in Abhängigkeit von der Temperatur ändert.\n",
    "\n",
    "Passive Sensoren benötigen zur Auswertung eine Hilfsenergie um hohe Genauigkeiten zu erreichen.\n",
    "\n",
    "* **Widerstandsthermometer**, die ihren *ohm'schen Widerstand* in Abhängigkeit von der Umgebungs**temperatur** ändern.\n",
    "* **Fotowiderstand**, die ihren *ohm'schen Widerstand* in Abhängigkeit von der **Beleuchtungsstärke** ändern\n",
    "* **Potentiometer** sind Schleifdrähte, die die Aufteilung ihres *ohm'schen Widerstand* in Abhängigkeit von der Position des Schleifdrahtes ändern und somit zur **Längenmessung** benutzt werden.\n",
    "* **Dehnungsmessstreifen** ändern ihren *ohm'schen Widerstandswert* in Abhängigkeit von ihrer Länge und werden zur Messung kleiner, relativer Längenänderungen und Kräfte benutzt. \n",
    "* **Induktive Sensoren** ändern ihre *Induktivität* in Abhängigkeit von Längen, Abständen und Winkeln.\n",
    "* **Kapazitive Sensoren** ändern ihre *Kapazität* in Abhängigkeit von Längen, Abständen und Winkeln.\n",
    "\n",
    "### Aktive Sensoren\n",
    "Aktive Sensoren wandeln (aktiv) eine nichtelektrische physikalische Größe in eine elektrische Größe um und somit **Energiewandler**. Die oerforderliche Energie für diesen Prozess wird der Messgröße entzogen. \n",
    "Diese Sensoren benötigen keine zusätzliche Hilfsenergie, können aber oft nut geringe Genauigkeiten erreichen. \n",
    "\n",
    "* **Thermoelemente** erzeugen bei einer **Temperaturdifferenz** eine *Spannung* zwischen zwei Messpunkten unterschiedlicher Metalle\n",
    "* **Fotoelement** erzeugen eine *Spannung* bzw. *Stromstärke* mittels fotoelektrischem Effekt aus der **Beleuchtungsstärke**.\n",
    "* **Piezokristalle** erzeugen eine *Ladungsumverteilung* und dadurch eine *Potentialdifferenz (Spannung)* in Kristallen wenn **Kraft oder Druck** von außen auf diesen einwirken. "
   ]
  },
  {
   "cell_type": "code",
   "execution_count": null,
   "id": "c2b20aef-1447-4b7b-9aa9-9c7d773dda22",
   "metadata": {},
   "outputs": [],
   "source": []
  }
 ],
 "metadata": {
  "kernelspec": {
   "display_name": "Python 3",
   "language": "python",
   "name": "python3"
  },
  "language_info": {
   "codemirror_mode": {
    "name": "ipython",
    "version": 3
   },
   "file_extension": ".py",
   "mimetype": "text/x-python",
   "name": "python",
   "nbconvert_exporter": "python",
   "pygments_lexer": "ipython3",
   "version": "3.9.12"
  }
 },
 "nbformat": 4,
 "nbformat_minor": 5
}
