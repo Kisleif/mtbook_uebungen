{
 "cells": [
  {
   "cell_type": "markdown",
   "id": "bbb942c4-dc13-44d3-be1f-5043873af685",
   "metadata": {},
   "source": [
    "# Checkliste für Protokolle\n",
    "\n",
    "Dies ist eine Checkliste, die vor der Abgabe des Protokolls überprüft werden sollte. Sie dient als Leitfaden und sollte an jeden Versuch angepasst werden. Weitere Informationen zum Praktikum und worauf man achten sollte befinden sich auf der [**Praktikums Infoseite**](0_Praktikum.ipynb).\n",
    "\n",
    "## Allgemeine Anforderungen an das Protokoll\n",
    "\n",
    "::::{grid}\n",
    ":gutter: 2\n",
    "\n",
    ":::{grid-item-card} [Online Latex-Vorlage](https://www.overleaf.com/latex/templates/vorlage-praktikum-messtechnik/zwjgtfpxrszg)\n",
    "\n",
    ":::\n",
    "\n",
    ":::{grid-item-card} [Word-Vorlage](https://www.hsu-hh.de/mt/wp-content/uploads/sites/868/2023/11/Vorlage_Praktikum_Messtechnik.docx)\n",
    "\n",
    ":::\n",
    "::::\n",
    "\n",
    "- Bitte reiche den Praktikumsbericht unbedingt im **PDF-Format** ein.\n",
    "- Sind die Namen aller Teilnehmenden angegeben?\n",
    "- Ein Protokoll sollte die folgenden Teile enthalten: Einleitung, Versuchsaufbau, Rohdaten, Auswertung und eine Diskussion der Ergebnisse. Im Folgenden wird genauer auf die Bestandteile dieser Abschnitte eingegangen.\n",
    "\n",
    "## Einleitung\n",
    "Die Einleitung sollte einen kurzen Überblick über den Versuch geben und die Ziele des Versuchs sowie dessen Relevanz erläutern.\n",
    "- Welcher Versuch wird durchgeführt?\n",
    "- Welche Größen sollen bestimmt werden?\n",
    "- Welche Größen sollen gemessen werden?\n",
    "\n",
    "## Versuchsaufbau und Durchführung\n",
    "- Füge ein Foto des Versuchsaufbaus ein.\n",
    "- Beschreibe detailliert, wie der Versuch durchgeführt wurde. Es ist wichtig, dass der Versuch anhand deiner Beschreibung wiederholt und die Ergebnisse überprüft werden könnten. Es sollte klar hervorgehen, welche Größen im Laufe des Versuchs verändert wurden und welche Größen konstant gehalten wurden.\n",
    "- Dieser Abschnitt dient der reinen Beschreibung. Ergebnisse oder Fehler sollten hier noch nicht behandelt werden.\n",
    "\n",
    "## Auswertung und Darstellung der Daten\n",
    "- Die Auswertung bildet das Herzstück des Protokolls. Hier werden die Daten verarbeitet, und Schlussfolgerungen zu den gemessenen Größen gezogen. Alle Schritte und Gedankengänge sollten nachvollziehbar und deutlich dargestellt sein.\n",
    "- Die Daten sollten so aufbereitet werden, dass die gesuchte(n) Größe(n) klar erkennbar sind. Dies kann je nach Versuch eine einfache Berechnung, eine Linearisierung der Ergebnisse oder eine andere Form der Auswertung der Messdaten erfordern, z. B. eine Kurvenanpassung.\n",
    "- Alle Berechnungen sollten in SI-Einheiten durchgeführt werden, und die Ergebnisse sollten ebenfalls in geeigneten [**Einheiten**](1_Einheiten.ipynb) angegeben werden (z. B. mm).\n",
    "- Die Daten und die Auswertung sollten graphisch dargestellt werden und gegebenenfalls ein Modell angepasst ([**Kurvenanpassung**](1_Kurvenanpassung.ipynb)) werden. Besondere Aufmerksamkeit sollte auf folgende Punkte gelegt werden:\n",
    "    - Achsenbeschriftung: Sie sollte leicht lesbar sein und den Messwert sowie die Einheit enthalten. (Hinweis: Die Standardschriftgröße in Python ist möglicherweise zu klein.)\n",
    "    - Titel der Grafik oder aussagekräftige Bildunterschrift in Latex oder Word einfügen.\n",
    "    - Darstellung der Datenpunkte inklusive Fehlerbalken.\n",
    "    - Die Auswertung kann auch als Linie dargestellt werden.\n",
    "    - Es ist hilfreich, geeignete Achsenskalierungen zu verwenden, sowohl in Bezug auf den Bereich der Datenpunkte als auch auf eine mögliche logarithmische Darstellung (siehe [**Einheiten**](1_Einheiten.ipynb)).\n",
    "    - Die Daten sollten leicht ablesbar sein. Ein Gitternetz in der Grafik kann hierbei helfen.\n",
    "- Die [**Unsicherheiten**](1_Messunsicherheiten.ipynb) der Messungen sollten berücksichtigt werden. Welche Geräte oder Messwerte könnten abweichen? Welche Gründe gibt es für diese Annahme?.\n",
    "- Die Fehler der Daten sollten bestimmt werden. Dazu sollte eine [**Fehlerfortpflanzung**](1_Fehlerfortpflanzung.ipynb) durchgeführt werden.\n",
    "\n",
    "## Diskussion und Analyse\n",
    "In diesem Abschnitt sollten die Messergebnisse und die Auswertung kritisch betrachtet werden. Fragen, die bei Relevanz zu beantworten sind, könnten sein:\n",
    "- Sind die Werte realistisch? Wie verhalten sie sich im Vergleich zum Literaturwert? Was könnten mögliche Gründe für Abweichungen sein?\n",
    "- Wie groß ist der berechnete Fehler im Vergleich zu den Messwerten? Lässt sich eine genaue Aussage über das System treffen?\n",
    "- Deuten die Ergebnisse auf einen großen systematischen Fehler hin?\n",
    "- Können Fehlerquellen auf eine genaue Ursache zurückgeführt werden, z. B. das Austauschen des Messgeräts während des Versuchs, unzureichende Datenlage, Justierungen während des Versuchs usw.?"
   ]
  },
  {
   "cell_type": "code",
   "execution_count": null,
   "id": "70b9b51b-a165-4ca4-b486-e21d6a80e6e7",
   "metadata": {},
   "outputs": [],
   "source": []
  }
 ],
 "metadata": {
  "kernelspec": {
   "display_name": "Python 3",
   "language": "python",
   "name": "python3"
  },
  "language_info": {
   "codemirror_mode": {
    "name": "ipython",
    "version": 3
   },
   "file_extension": ".py",
   "mimetype": "text/x-python",
   "name": "python",
   "nbconvert_exporter": "python",
   "pygments_lexer": "ipython3",
   "version": "3.9.18"
  }
 },
 "nbformat": 4,
 "nbformat_minor": 5
}
