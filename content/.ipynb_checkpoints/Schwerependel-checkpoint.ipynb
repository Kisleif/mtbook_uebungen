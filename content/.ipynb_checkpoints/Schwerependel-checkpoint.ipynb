{
 "cells": [
  {
   "cell_type": "markdown",
   "id": "eebd425d-54fb-4d3c-a292-22770c4c67e6",
   "metadata": {},
   "source": [
    "# Das Schwerependel \n",
    "\n",
    "## Ziele\n",
    "Oszillationsbewegungen faszinieren durch ihre harmonische Natur und dienen gleichzeitig als äußerst empfindliches Messinstrument, insbesondere im Kontext atomarer Oszillatoren. Das einfache Fadenpendel ermöglicht uns einen erstaunlich klaren Einblick in die zugrunde liegenden Kraftfelder.\n",
    "\n",
    "Während dieses Experimentes werden wir verschiedene Techniken zur Berechnung von Mittelwerten, Streumaßen und Ausgleichsgeraden erlernen. Diese Fähigkeiten werden uns dabei helfen, die Erdbeschleunigung ($g$) im Rahmen des Pendelversuchs zu bestimmen und gleichzeitig die zugehörige Messunsicherheit zu berücksichtigen."
   ]
  },
  {
   "cell_type": "code",
   "execution_count": 3,
   "id": "ae2fb85f-2a76-42a9-85fb-df090e452081",
   "metadata": {},
   "outputs": [
    {
     "data": {
      "application/vnd.jupyter.widget-view+json": {
       "model_id": "fcafe37eab8741f89625629178f93861",
       "version_major": 2,
       "version_minor": 0
      },
      "text/plain": [
       "interactive(children=(FloatSlider(value=1.0, description='Fadenlänge (m)', max=10.0, min=0.1), Output()), _dom…"
      ]
     },
     "metadata": {},
     "output_type": "display_data"
    },
    {
     "data": {
      "application/vnd.jupyter.widget-view+json": {
       "model_id": "9ece813b7d784aa39d630d171679614a",
       "version_major": 2,
       "version_minor": 0
      },
      "text/plain": [
       "FloatSlider(value=1.0, description='Fadenlänge (m)', max=10.0, min=0.1)"
      ]
     },
     "metadata": {},
     "output_type": "display_data"
    }
   ],
   "source": [
    "import numpy as np\n",
    "import matplotlib.pyplot as plt\n",
    "from ipywidgets import interact, widgets\n",
    "from IPython.display import display\n",
    "\n",
    "# Funktion zur Berechnung der Periodendauer eines Fadenpendels\n",
    "def calculate_period(length):\n",
    "    g = 9.81  # Erdbeschleunigung in m/s^2\n",
    "    T = 2 * np.pi * np.sqrt(length / g)  # Berechnung der Periodendauer\n",
    "    return T\n",
    "\n",
    "# Funktion zur Aktualisierung der Visualisierung\n",
    "def update_pendulum(length):\n",
    "    T = calculate_period(length)  # Periodendauer berechnen\n",
    "\n",
    "    # Zeitwerte für die Visualisierung\n",
    "    t = np.linspace(0, 12, 1000)\n",
    "    theta = np.sin(2 * np.pi * t / T)\n",
    "\n",
    "    # Plot des Fadenpendels\n",
    "    plt.figure(figsize=(8, 4))\n",
    "    plt.plot(t, theta, label=f'Fadenlänge: {length} m, Periodendauer: {T:.2f} s')\n",
    "    plt.xlabel('Zeit (s)')\n",
    "    plt.ylabel('Winkel (Bogenmaß)')\n",
    "    plt.title('Fadenpendel Ausschlag')\n",
    "    plt.xlim([0,12])\n",
    "    plt.legend()\n",
    "    plt.grid(True)\n",
    "    plt.show()\n",
    "\n",
    "# Interaktive Steuerelemente für die Fadenlänge\n",
    "length_slider = widgets.FloatSlider(value=1.0, min=0.1, max=10.0, step=0.1, description='Fadenlänge (m)')\n",
    "interact(update_pendulum, length=length_slider)\n",
    "\n",
    "# Anzeige der Steuerelemente\n",
    "display(length_slider)\n"
   ]
  },
  {
   "cell_type": "markdown",
   "id": "7fea7616-db79-49c9-9b2b-abce5a48cadb",
   "metadata": {},
   "source": [
    "## Grundlagen \n",
    "In diesem Versuch analysieren wir die Eigenschaften der Oszillationen eines Massenkörpers (Masse: $m$), der an einem Faden befestigt ist. Wenn dieser Massenkörper um den Winkel $\\varphi_0$ ausgelenkt und anschließend losgelassen wird, führt er ein Pendelbewegung aus. \n",
    "Um die mathematische Beschreibung zu vereinfachen, werden wir im Verlauf dieses Experiments eine Reihe von Näherungen verwenden, die sich in unterschiedlichem Maße von der genauen physikalischen Realität entfernen.\n",
    "\n",
    "(I) Die Dämpfung des Pendels ist vernachlässigbar gering. Das bedeutet, dass die Schwingungen nur sehr langsam an Energie verlieren. In der Tat ist die Anzahl der Schwingungen, nach der das Pendel die Hälfte seiner ursprünglichen Energie verloren hat, größer als 100.\n",
    "\n",
    "(II) Die Auslenkung $\\varphi(t)$ des Pendels bleibt während des Versuchs stets kleiner als 30 Grad. Diese Begrenzung in der Auslenkung stellt sicher, dass wir uns in einem Bereich befinden, in dem die Näherungen noch gültig sind.\n",
    "\n",
    "(III) Die räumliche Ausdehnung des Pendelkörpers selbst ist so klein, dass sie vernachlässigbar ist. Dadurch können wir die gesamte Masse des Pendels auf einen Punkt konzentrieren, was die mathematische Analyse erheblich erleichtert.\n",
    "\n",
    "(IV) Der Faden, an dem das Pendel befestigt ist, wird als massefrei angenommen. Das bedeutet, dass wir die Masse des Fadens selbst nicht berücksichtigen müssen und uns nur auf die Masse des Pendelkörpers konzentrieren können.\n",
    "\n",
    "Diese Näherungen erlauben es uns, die Pendelbewegung auf eine einfachere Art und Weise zu analysieren, obwohl sie nicht vollständig der realen physikalischen Situation entsprechen.\n",
    "\n",
    ":::::{grid} 2\n",
    "\n",
    "::::{grid-item}\n",
    "\n",
    "Tangential-Kraft: $F_T = mg\\sin(\\varphi)$\n",
    "\n",
    "Rückstellkraft: $F_R = m\\cdot a_\\mathrm{tan}  = m\\cdot \\ddot \\varphi l$\n",
    "\n",
    "Winkelgeschwindigkeit: $v_\\mathrm{tan} = \\omega \\cdot r = \\dot \\varphi \\cdot l$\n",
    "\n",
    "Gleichsetzen der Kräfte: $mg\\sin \\varphi = \\ddot \\varphi l$\n",
    "::::\n",
    "\n",
    "::::{grid-item}\n",
    ":::{figure-md} SI\n",
    "<img src=\"draw/fadenpendel.jpg\" alt=\"fadenpendel\" width=\"300px\" label = fadenpendel>\n",
    "\n",
    "Kräfte im Schwerependel. \n",
    ":::\n",
    "::::\n",
    ":::::\n",
    "\n",
    "Die Zerlegung der Schwerkraft auf den Pendelkörper in die zwei Komponenten senkrecht und parallel zum Faden führt auf eine Kraft, die den Faden spannt ($F_R$) und eine, die ein Rückstellmoment bewirkt ($F_T = m \\cdot g \\cdot \\sin(\\varphi)$). Aus den Newtonschen Axiomen folgt damit die Momentengleichung:\n",
    "\n",
    "$$\n",
    "J \\cdot \\ddot{\\varphi} + mgl\\sin(\\varphi) - M_{\\text{Reibung}} = 0\n",
    "$$\n",
    "\n",
    "Unter Berücksichtigung der Näherungen ($M_{\\text{Reibung}} \\approx 0$ nach (I); $\\sin(\\varphi) \\approx \\varphi$ nach (II)) vereinfacht sich die obige Gleichung zu:\n",
    "\n",
    "$$\n",
    "\\ddot{\\varphi} + \\frac{mgl}{J} \\varphi = 0\n",
    "$$\n",
    "\n",
    "Eine Lösung der Differentialgleichung mit den Anfangswerten $\\varphi(t = 0) = \\varphi_0$ und $\\dot{\\varphi}(0) = 0$ ist gegeben durch:\n",
    "\n",
    "$$\n",
    "\\varphi(t) = \\varphi_0 \\cdot \\cos(\\omega t); \\quad \\omega = \\frac{2 \\pi}{T_0} = \\sqrt{\\frac{gl}{l^2 + 2r^2/5}}\n",
    "$$\n",
    "\n",
    "Wenn wir die *effektive Länge* $l_{\\text{eff}} = \\frac{l^2 + \\frac{2r^2}{5}}{l}$ einführen, wird der Ausdruck für die Periodendauer ($T_0$) handlicher:\n",
    "\n",
    "$$\n",
    "T_0 = 2\\pi\\sqrt{\\frac{l_{\\text{eff}}}{g}}\n",
    "$$\n",
    "\n",
    "Wichtig dabei: Die Länge $l$ reicht immer vom Aufhängungspunkt bis zum Schwerpunkt des Pendelkörpers. Der ganze Aufbau befindet sich an einem Ort mit dem Ortsfaktor (Erdbeschleunigung) $g$."
   ]
  },
  {
   "cell_type": "markdown",
   "id": "45827cc5-828f-4b79-ab15-64bce5e88e05",
   "metadata": {},
   "source": [
    ":::{admonition} Aufgabe\n",
    ":class: tip\n",
    "Prüfe, ob die Annäherung $\\sin(\\varphi) \\approx \\varphi$ für Werte von $\\varphi$ unter 30 Grad mit einer Genauigkeit von weniger als 5 % zutrifft. Berechne den Fehler zwischen den beiden Ausdrücken und vergleiche ihn mit der Schwelle von 5 %, um festzustellen, ob die Annäherung gültig ist oder nicht.\n",
    ":::\n",
    "\n",
    ":::{admonition} Lösung\n",
    ":class: tip, dropdown\n",
    "Um zu überprüfen, ob die Näherung $\\sin(\\varphi) \\approx \\varphi$ für $\\varphi < 30^\\circ$ mit einer Genauigkeit besser als 5 % gilt, können wir den Fehler zwischen den beiden Ausdrücken berechnen und überprüfen, ob der Fehler kleiner als 5 % ist.\n",
    "\n",
    "Die Formel für den Fehler zwischen den beiden Ausdrücken lautet:\n",
    "\n",
    "$$\n",
    "\\text{Fehler} = \\frac{|\\sin(\\varphi) - \\varphi|}{\\sin(\\varphi)} \\times 100\\%\n",
    "$$\n",
    "\n",
    "Wir werden diesen Ausdruck für $$\\varphi = 30^\\circ$$ berechnen:\n",
    "\n",
    "$$\n",
    "\\text{Fehler} = \\frac{|\\sin(30^\\circ) - 30^\\circ|}{\\sin(30^\\circ)} \\times 100\\%\n",
    "$$\n",
    "\n",
    "Berechnung:\n",
    "\n",
    "$$\n",
    "\\text{Fehler} = \\frac{|0.5 - 0.5236|}{0.5} \\times 100\\% \\approx 4.72\\%\n",
    "$$\n",
    "\n",
    "Der Fehler zwischen den beiden Ausdrücken beträgt etwa 4,72 %. Da dieser Fehler kleiner als 5 % ist, können wir sagen, dass die Näherung $\\sin(\\varphi) \\approx \\varphi$ für $\\varphi < 30^\\circ$ mit einer Genauigkeit von besser als 5 % gilt.\n",
    ":::"
   ]
  },
  {
   "cell_type": "markdown",
   "id": "5cbf9210-076f-4289-b60a-c95a97c07242",
   "metadata": {},
   "source": [
    ":::{admonition} Aufgabe\n",
    ":class: tip\n",
    "Erläutere, wie sich das Trägheitsmoment der schwingenden Kugel unter Verwendung von Annahme (IV), die besagt, dass der Faden massefrei ist, und dem Steinerschen Satz berechnet. Die Formel für das Trägheitsmoment sollte als $J = m \\cdot l^2 + J_K$ angegeben werden, wobei $J_K$ das Trägheitsmoment bei Drehung um den Kugelmittelpunkt ist.:::\n",
    "\n",
    ":::{admonition} Lösung\n",
    ":class: tip, dropdown\n",
    "Der Steinersche Satz besagt, dass das Trägheitsmoment eines Körpers bezüglich einer Achse, die parallel zur ursprünglichen Achse und einen Abstand $d$ von dieser entfernt verläuft, berechnet werden kann, indem man das Trägheitsmoment bezüglich der ursprünglichen Achse und das Produkt der Masse des Körpers mit dem Quadrat des Abstands $d$ zur neuen Achse addiert:\n",
    "\n",
    "$$I = I_0 + m \\cdot d^2$$\n",
    "\n",
    "In unserem Fall ist $I_0$ das Trägheitsmoment der Kugel bezüglich einer Achse, die durch ihren Schwerpunkt verläuft (das ist $J_K$), und $d$ ist der Abstand zwischen dieser Achse und der Achse, um die das Pendel schwingt. Da der Faden als massefrei angenommen wird (Annahme IV), liegt der Schwerpunkt der Kugel auf der Achse des Pendels.\n",
    "\n",
    "Daher ist $d = l$, wobei $l$ die Länge des Fadens ist. Das Trägheitsmoment des Pendels wird daher wie folgt berechnet:\n",
    "\n",
    "$$J = J_K + m \\cdot l^2$$\n",
    "\n",
    "Das ist die gewünschte Formel, die das Trägheitsmoment des schwingenden Pendels unter Berücksichtigung von Annahme (IV) und dem Steinerschen Satz darstellt.\n",
    ":::"
   ]
  },
  {
   "cell_type": "code",
   "execution_count": null,
   "id": "3ad5ed9a-ad1b-44d3-8195-6942b8dba002",
   "metadata": {},
   "outputs": [],
   "source": []
  }
 ],
 "metadata": {
  "kernelspec": {
   "display_name": "Python 3",
   "language": "python",
   "name": "python3"
  },
  "language_info": {
   "codemirror_mode": {
    "name": "ipython",
    "version": 3
   },
   "file_extension": ".py",
   "mimetype": "text/x-python",
   "name": "python",
   "nbconvert_exporter": "python",
   "pygments_lexer": "ipython3",
   "version": "3.9.12"
  }
 },
 "nbformat": 4,
 "nbformat_minor": 5
}
