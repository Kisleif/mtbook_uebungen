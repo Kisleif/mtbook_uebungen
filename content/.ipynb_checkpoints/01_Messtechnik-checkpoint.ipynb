{
 "cells": [
  {
   "cell_type": "markdown",
   "id": "4018a1a7-1b91-4a93-88b2-f9fac0147a4a",
   "metadata": {},
   "source": [
    "# Messtechnik\n",
    "\n",
    "Was ist die Aufgabe der Messtechnik? Wozu braucht man sie? Wo taucht sie auf? Wer nutzt sie?\n",
    "Im Alltag findet man die Messtechnik überall, zum Beispiel im Handy, bei Temperatur- oder Stickstoffmessungen in der Umwelt oder in der Prozess- und Fertigungstechnik. Es bedarf einer bestimmten Struktur und Vorgehensweise, um physikalische oder chemische Größen zu beschreiben und auswerten zu können. \n",
    "Wir werden die Fragen beantworten, was die Eigenheiten und Einheiten bestimmter physikalischer Messgrößen sind, welches Messgeräte für diese existieren und was bei der Anwendung beachtet werden muss. \n",
    "\n",
    "Heutzutage bestehen messtechnische Lösungen fast ausschließlich aus elektronischen Systemen. Häufig werden eigenständige Messgeräte oder elektronische Messmodule für den PC benutzt, welche stets elektronische Bauelemente und Schaltungen nutzen. Deshalb werden wir uns insbesondere auch mit der Messung von elektrischen Kenngrößen (Spannungen, Ströme, Leistungen, Widerstände, Kapazitäten, Induktivitäten) beschäftigen werden. \n",
    "\n",
    "Für das Messen von nicht-elektrischer Größen - was in der Mehrheit der Anwendungen von Interesse ist - werden in der Messtechnik zusätzliche Sensoren eingesetzt. \n",
    "Ein Sensor wandelt nach einem bestimmten physikalischen (oder chemischen) Funktionsprinzip die nicht-elektrische Größe in ein elektrisches Signal um, das mit elektronischen Schaltungen weiterverarbeitet werden kann. Beispiele für über Sensoren erfassbare nicht-elektrische Größen sind beispielsweise Temperatur, Druck, Feuchte, Durchfluss, Weg, Winkel, Kraft, Druck, Beschleunigung, CO2-Konzentration, Schalldruck etc.\n",
    "\n",
    "```{tableofcontents}\n",
    "```"
   ]
  },
  {
   "cell_type": "markdown",
   "id": "bea17a79-7d29-4253-9252-e7fc67400d41",
   "metadata": {},
   "source": [
    "## Zusammenfassung\n",
    "\n",
    "| Begriff | Beschreibung |\n",
    "|:--------------------|:----------------------------------------|\n",
    "|Messen|Ermittlung des Messwertes zu einer Messgröße. (Wie oft geht eine Einheit in eine Messgröße hinein?)|\n",
    "|Maßeinheit|Festgelegter Vergleichswert für eine physikalische Messgröße|\n",
    "|Messwert|Bei der Messung ermittelter Faktor. Zahlenmäßiges Verhältnis zwischen Einheit und Messgröße|\n",
    "|Messgröße|Physikalische Größe, die Gegenstand einer Messung ist|\n",
    "|Messignal|Ein Signal mit dem Messinformationen transportiert werden|\n",
    "|Dezibel|Logarithmisches Übertragungsmaß, dessen Zahlenwert mit einer vereinbarten Berechnungsvorschrift ermittelt wird.|\n",
    "|Kalibrieren|Untersuchen, ob der Prüfgegenstand bestimmte Bedingungen erfüllt (Entspricht der Messwert eines Messgeräts dem „richtigen“ Wert des Messgröße?)|\n",
    "|Eichen|Prüfung und Stempelung des Messsystems nach Eichvorschriften (Entspricht der Messwert eines Messgeräts dem „richtigen“ Wert des Messgröße unter staatlicher Hoheit?)|\n",
    "|Justieren|Einstellen eines Messsystems so, dass der Messwert der Messgröße möglichst gut entspricht|\n",
    "|Normale|Eine handhabbare Verkörperung einer Maßeinheit|\n",
    "|Richtiger Wert|Mit denkbar größten technischem und theoretischem Aufwand ermittelter Messwert, der als Bezugswert zur Bewertung eines Messergebnisses benutzt wird. |\n",
    "|SI-Einheitensystem|Vereinbartes System von Maßeinheiten|\n",
    "|Wahrer Wert|Tatsächlich vorhandener Wert einer physikalischen Größe, er ist durch eine endliche Genauigkeit der verwendeten Messmittel nicht exakt bestimbar. |"
   ]
  },
  {
   "cell_type": "code",
   "execution_count": null,
   "id": "ece9309a-5e5f-4419-a79e-823f72befd89",
   "metadata": {},
   "outputs": [],
   "source": []
  }
 ],
 "metadata": {
  "kernelspec": {
   "display_name": "Python 3",
   "language": "python",
   "name": "python3"
  },
  "language_info": {
   "codemirror_mode": {
    "name": "ipython",
    "version": 3
   },
   "file_extension": ".py",
   "mimetype": "text/x-python",
   "name": "python",
   "nbconvert_exporter": "python",
   "pygments_lexer": "ipython3",
   "version": "3.9.12"
  }
 },
 "nbformat": 4,
 "nbformat_minor": 5
}
