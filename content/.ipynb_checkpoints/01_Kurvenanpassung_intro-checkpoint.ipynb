{
 "cells": [
  {
   "cell_type": "markdown",
   "id": "b0821637-ae81-4314-b4f8-da4e8c2fa3ea",
   "metadata": {},
   "source": [
    "# Kurvenanpassung\n",
    "\n",
    "```{tableofcontents}\n",
    "```"
   ]
  },
  {
   "cell_type": "markdown",
   "id": "2d2fdf71-6f25-4ae0-9fe6-e75bda990a4a",
   "metadata": {},
   "source": [
    "## Zusammenfassung\n",
    "\n",
    "| Begriff | Beschreibung |\n",
    "|:-----------------|:----------------------------------------|\n",
    "|Interpolation | Analytische Kennlinie läuft exakt durch alle Messpunkte und wird beispielsweise unter Verwendung von Polynomen bestimmt. |\n",
    "|Regression | statistisches Analyseverfahren zur Feststellung funktionaler Beziehungen zwischen einer abhängigen und einer oder mehreren unabhängigen Variablen (Untersuchung von Korrelationen) |\n",
    "| Anpassung| Wie Regression, aber unter Berücksichtigung von Messfehlern (Fehlerbalken) |\n",
    "| Approximation | Kennlinienannäherung mittels Linearkombination geeigneter analytischer Basisfunktionen (beispielsweise durch Fourier-Reihen, siehe kommende Kapitel (Regression und Anpassung sind Approximationen)|\n",
    "|Bestimmtheitsmaß | Das Bestimmtheitsmaß, auch Determinationskoeffizient (von lateinisch determinatio „Abgrenzung, Bestimmung“ bzw. determinare „eingrenzen“, „festlegen“, „bestimmen“ und coefficere „mitwirken“), R2, ist in der Statistik eine Kennzahl zur Beurteilung der Anpassungsgüte einer Regression – beispielsweise, um zu bewerten, wie gut Messwerte zu einem Modell passen. Das Bestimmtheitsmaß beruht auf der Quadratsummenzerlegung, bei der die totale Quadratsumme in die (durch das Regressionsmodell) erklärte Quadratsumme und in die Residuenquadratsumme zerlegt wird.|\n",
    "| Methode der kleinsten Quadrate | ist das mathematische Standardverfahren zur Ausgleichungsrechnung. |\n",
    "| Residuenquadratsumme | Die Residuenquadratsumme, Quadratsumme der Residuen, oder auch Summe der Residuenquadrate, bezeichnet in der Statistik die Summe der quadrierten (Kleinste-Quadrate-)Residuen (Abweichungen zwischen Beobachtungswerten und den vorhergesagten Werten) aller Beobachtungen |"
   ]
  }
 ],
 "metadata": {
  "kernelspec": {
   "display_name": "Python 3",
   "language": "python",
   "name": "python3"
  },
  "language_info": {
   "codemirror_mode": {
    "name": "ipython",
    "version": 3
   },
   "file_extension": ".py",
   "mimetype": "text/x-python",
   "name": "python",
   "nbconvert_exporter": "python",
   "pygments_lexer": "ipython3",
   "version": "3.9.12"
  }
 },
 "nbformat": 4,
 "nbformat_minor": 5
}
