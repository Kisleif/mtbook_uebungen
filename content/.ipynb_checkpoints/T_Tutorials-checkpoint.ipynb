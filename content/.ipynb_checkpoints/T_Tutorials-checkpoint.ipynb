{
 "cells": [
  {
   "cell_type": "markdown",
   "id": "d421ac38-5cd8-443e-b668-14b56c2cbdcf",
   "metadata": {},
   "source": [
    "# Jupyter Notebooks\n",
    "\n",
    "Hier wird eine Sammlung von Jupyter-Notebooks zur Verfügung gestellt, die die Vorlesung, Übung und das Praktikum begleiten.\n",
    "\n",
    "```{tableofcontents}\n",
    "```   "
   ]
  },
  {
   "cell_type": "code",
   "execution_count": null,
   "id": "775bb49f-1155-4df5-afe5-17cb2c8317d5",
   "metadata": {},
   "outputs": [],
   "source": []
  }
 ],
 "metadata": {
  "kernelspec": {
   "display_name": "Python 3",
   "language": "python",
   "name": "python3"
  },
  "language_info": {
   "codemirror_mode": {
    "name": "ipython",
    "version": 3
   },
   "file_extension": ".py",
   "mimetype": "text/x-python",
   "name": "python",
   "nbconvert_exporter": "python",
   "pygments_lexer": "ipython3",
   "version": "3.9.12"
  }
 },
 "nbformat": 4,
 "nbformat_minor": 5
}
