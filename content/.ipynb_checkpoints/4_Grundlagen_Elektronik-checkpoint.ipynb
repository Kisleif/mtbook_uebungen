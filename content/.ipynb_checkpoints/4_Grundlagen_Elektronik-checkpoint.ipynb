{
 "cells": [
  {
   "cell_type": "markdown",
   "id": "3521e670-8656-43d2-987e-10a1512a1673",
   "metadata": {},
   "source": [
    "# Elektronische Minimum"
   ]
  },
  {
   "cell_type": "code",
   "execution_count": null,
   "id": "4d17a294-53ee-4139-a092-4fd5afe513ae",
   "metadata": {},
   "outputs": [],
   "source": []
  }
 ],
 "metadata": {
  "kernelspec": {
   "display_name": "Python 3",
   "language": "python",
   "name": "python3"
  },
  "language_info": {
   "codemirror_mode": {
    "name": "ipython",
    "version": 3
   },
   "file_extension": ".py",
   "mimetype": "text/x-python",
   "name": "python",
   "nbconvert_exporter": "python",
   "pygments_lexer": "ipython3",
   "version": "3.9.12"
  }
 },
 "nbformat": 4,
 "nbformat_minor": 5
}
