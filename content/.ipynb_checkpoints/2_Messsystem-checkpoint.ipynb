{
 "cells": [
  {
   "cell_type": "markdown",
   "id": "4c23e1d6-db30-449d-9cd7-a9e129bd32d6",
   "metadata": {},
   "source": [
    "# Grundstruktur eines Messsystems\n",
    "\n",
    "{numref}`grundstruktur` zeigt die generelle Struktur eines Messsystems.\n",
    "\n",
    ":::{figure-md} grundstruktur\n",
    "<img src=\"draw/grundstruktur.jpg\" alt=\"grundstruktur\" class=\"bg-primary mb-1\" width=\"800px\" label = grundstruktur>\n",
    "\n",
    "Generelle Grundstruktur eines Messsystems, bzw Messkette.\n",
    ":::\n",
    "\n",
    "Dies ist eine der ersten Messketten, die wir kennenlernen. Allgemein findet man immer wieder die gleichen Komponenten in solchen Ketten, die im Folgenden aufgelistet werden:\n",
    "\n",
    "* **Aufnehmer/Sensor** (auch Messgrößenaufnehmer genannt): Die Erfassung der physikalischen Messgröße, $u$, wird mit einem entsprechend geeigneten *Sensor* realisiert. Mit konkreten Sensoren werden wir uns noch am Ende der Vorlesung genauer beschäftigen. Einige Beispiele werden uns aber während der kompletten Veranstaltung immer mal wieder begegnen. Ein Sensor nimmt eine Messgröße auf, z.B. die Umgebungstemperatur, wandelt diese beispielsweise in eine Widerstandänderung um, welche wiederum in ein weiterverarbeitungsfähiges Signal (hier elektrisch) mit einer geeigneten Schaltung umgewandelt wird. \n",
    "* **Verstärkung**: An dieser Stelle startet die Messsignalverarbeitung. Da das elektrische Primärsignal mitunter sehr  klein sein kann, muss es deshalb vielleicht noch verstärkt werden, bevor es einer Digitalisierung zugeführt werden kann.\n",
    "* **Anpassung** (optional): Die meist elektrische Größe wird in einen darstellbaren Messwert umgewandelt. Hierfür werden Messschaltungen mit Messverstärkern oder Computern verwendet.\n",
    "* **Messwertausgabe** (diverse): Anzeige, Registrierung, Speicherung, Dokumentation in analoger oder digitaler Form können an dieser Stelle in die Messkette implementiert werden.\n",
    "* **Digitalisierung**: Dies ist die häufigste Art der *Messwertausgabe*. Das analog vorliegende elektrische Signal wird in ein Digitalwort umgewandelt. \n",
    "* **Digitale Signalverarbeitung**: Durch Algorithmik wird der Messwert digital weiterverarbeitet. Häufig können an dieser Stelle auch Korrekturen vorgenommen werden, um beispielsweise Kennenlinienfehler zu minimieren und zu korrigieren. Dies werden wir gleich noch genauer betrachten. Ausgegeben wird schließlich ein Messwert $y$.\n",
    "\n",
    "\n",
    "## Verhalten\n",
    "\n",
    "Jede einzelne der Komponenten wandelt das jeweilige Eingangssignal in ein Ausgangssignal um. Dies wird durch den **Übertragungsfaktor** $k$ beschrieben und stellt eine der wichtigsten **statischen** Kenngrößen eines Messsystems dar. Der Übertragungsfaktor sollte für jede Komponente ein lineares Verhalten aufweisen, was bedeutet, dass sich die Ausgangsgröße verdoppeln sollte, wenn sich die Eingangsgröße verdoppelt.\n",
    "\n",
    "Zusätzlich zum statischen Verhalten hat jedes Messsystem auch ein **dynamisches Verhalten**. Dabei geht es nicht um die Linearität zwischen Ausgangs- und Eingangsgröße, sondern darum, wie das System auf schnelle Änderungen der Eingangsgröße reagiert. Je schneller sich die Eingangsgröße ändert, desto schneller müssen das Messsystem und der Sensor reagieren, um die Ausgangsgröße anzupassen. Hierbei zeigen sich unterschiedliche Verhaltensweisen, da Sensoren und Messgeräte in ihrer Reaktionsgeschwindigkeit nach oben oder unten begrenzt sein können.\n",
    "\n",
    "Im Folgenden werden wir die wichtigste statische Kenngröße, den **Übertragungsfaktor** $k$, genauer kennenlernen. Dieser gilt auch für dynamische Systeme, sobald sie sich in einem eingeschwungenen Zustand befinden und als stationär betrachtet werden können. Der Übertragungsfaktor $k$ wird auch als **Verstärkungsfaktor** bezeichnet. Über den gesamten Eingangsbereich der Messeinrichtung wird der Übertragungsfaktor durch die statische **Kennlinie** beschrieben. Diese beschreibt das Verhältnis zwischen einem bestimmten Bereich der Eingangsgröße und dem korrespondierenden Bereich der Ausgangsgröße."
   ]
  },
  {
   "cell_type": "code",
   "execution_count": null,
   "id": "13d53107-292e-4004-b20e-43eadef79b93",
   "metadata": {},
   "outputs": [],
   "source": []
  }
 ],
 "metadata": {
  "kernelspec": {
   "display_name": "Python 3",
   "language": "python",
   "name": "python3"
  },
  "language_info": {
   "codemirror_mode": {
    "name": "ipython",
    "version": 3
   },
   "file_extension": ".py",
   "mimetype": "text/x-python",
   "name": "python",
   "nbconvert_exporter": "python",
   "pygments_lexer": "ipython3",
   "version": "3.9.12"
  }
 },
 "nbformat": 4,
 "nbformat_minor": 5
}
