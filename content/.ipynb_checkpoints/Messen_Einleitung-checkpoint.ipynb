{
 "cells": [
  {
   "cell_type": "markdown",
   "id": "fbb85d9e-3f02-4bca-a571-feb322c7b632",
   "metadata": {},
   "source": [
    "# Messen von Zeit, Länge, Masse, Strom, Temperatur, Lichtstärke und Stoffmenge\n",
    "\n",
    "**Aufgabe:** Geben Sie für die physikalischen Größen (Zeit, Länge, Masse, Strom, Temperatur, Lichtstärkemessung) eine Auswahl an Messgeräten an und erläutern Sie kurz ein von Ihnen ausgewähltes Messprinzip etwas genauer. Orientieren Sie sich gerne an folgenden Fragen:\n",
    "- Wie können (Zeit, Länge, Masse, …) gemessen werden? Heute vs. Früher? \n",
    "- Sind Ihnen Vor- und Nachteile bei dem Vergleich verschiedener Messverfahren aufgefallen (Anwendungsbereich, Nutzer, Messgenauigkeit,…)?\n",
    "- In welchen Einheiten wird (Zeit, Länge, Masse, …) noch angegeben (Meile, Lichtjahr, Minuten, Fahrenheit, …)?\n",
    "- Andere interessante Fakten\n",
    "\n",
    "## Aufgabe 1: Zeitmessung\n",
    "… liefert die Angabe von Messgrößen der Zeit und wird in SI-Einheiten in Sekunden angegeben. Sie umfasst sowohl die Bestimmung von Zeitpunkten, als auch von Zeitintervallen und ist in unzähligen Anwendungsbereichen essentieller Bestandteil, wie z.B. in der Messtechnik, Astronomie, Geodäsie, Kinematik, GPS, Sport. \n",
    "\n",
    "## Aufgabe 2: Längenmessung\n",
    "… ist die Messung des Abstands zwischen zwei Punkten im Raum. Sie umfasst sowohl die Bestimmung des Absolutabstands, als auch der inkrementalen Längenänderung. Der physikalisch relevante Bereich beginnt bei  (Größe der Elementarteilchen) und reicht bis  (Größe des Universums). \n",
    "\n",
    "## Aufgabe 3: Massenmessung\n",
    "… liefert eine der wichtigsten Eigenschaften von Materie. Die Masse  eines Körpers ist träg (2. Newton’sche Axiom  ) und schwer (Newtons Gravitationsgesetz ). Masse ist proportional zur Kraft, welche einerseits auf den Körper wirkt, als auch von ihm verursacht wird. Auf diesem Prinzip funktionieren Waagen. \n",
    "\n",
    "## Aufgabe 4: Strommessung\n",
    "… liefert die Angabe über elektrische Stromstärken. In der elektrischen Messtechnik ist der Stromfluss einer der am häufigsten verwendeten Parameter um ein elektronisches System zu charakterisieren, steuern oder dessen Effektivität zu bestimmen. \n",
    "\n",
    "## Aufgabe 5: Temperaturmessung\n",
    "… liefert den Wert eine Zustandsgröße von zentraler Bedeutung bei der makroskopischen Betrachtung von physikalischen und chemischen Zuständen und diversen Prozessen in Wissenschaft, Technik und Umwelt. Mikroskopisch betrachtet entspricht eine Erhöhung Temperatur einer Zunahme der durchschnittlichen Energie von sich bewegenden Teilchen.  Dies ist auch bekannt als statistische Physik. \n",
    "\n",
    "## Aufgabe 6: Lichtstärkemessung\n",
    "… liefert den auf einen Raumwinkel bezogenen Lichtstrom und beschreibt somit eine Eigenschaft der betrachteten Lichtquelle. Die Lichtstärke ist eine photometrische Größe und bezieht aber auch die Empfindlichkeit des menschlichen Auges mit ein. \n",
    "\n",
    "## Aufgabe 7: Extra Ü: Stoffmengenmessung\n",
    "… ist die Bestimmung von Teilchenanzahlen, wie Molekülen oder Ionen, die man nicht mehr zählen kann. Der Fachbegriff in der Chemie lautet Stöchiometrie und befasst sich mit der Stoffmengenmessung über Massen-Messungen. Im Alltag oder der Umwelt ist diese Messtechnik von Nutzen, wenn z.B. die Menge von ausgestoßenen Stickoxiden eines Fahrzeugs bestimmt werden soll.\n"
   ]
  },
  {
   "cell_type": "code",
   "execution_count": null,
   "id": "bde3e33a-65e3-4b99-b8b7-273606a3920b",
   "metadata": {},
   "outputs": [],
   "source": []
  }
 ],
 "metadata": {
  "kernelspec": {
   "display_name": "Python 3",
   "language": "python",
   "name": "python3"
  },
  "language_info": {
   "codemirror_mode": {
    "name": "ipython",
    "version": 3
   },
   "file_extension": ".py",
   "mimetype": "text/x-python",
   "name": "python",
   "nbconvert_exporter": "python",
   "pygments_lexer": "ipython3",
   "version": "3.9.12"
  }
 },
 "nbformat": 4,
 "nbformat_minor": 5
}
