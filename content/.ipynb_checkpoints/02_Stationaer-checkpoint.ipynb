{
 "cells": [
  {
   "cell_type": "markdown",
   "id": "f88f442c-2a55-4f6a-8fc0-de169dd3415d",
   "metadata": {},
   "source": [
    "# Stationäre Messsysteme\n",
    "\n",
    "Wir benutzen Messsysteme, um eine Messgröße in einen Messwert umzuführen. Hierbei werden wir den realen, echten Wert der Messgröße jedoch nie erfahren (Damit befassen wir uns im Kapitel  [Messunsicherheiten](1_Messunsicherheiten.ipynb)). \n",
    "Ein Messwert kann direkt vom Messgerät angezeigt werden, beispielsweise über ein Display, oder er steht als Datenwert in analoger oder digitaler Form zur Verfügung, welcher mit entsprechenden Geräten oder Algorithmen weiterverarbeitet werden muss. \n",
    "\n",
    "In diesem Kapitel wollen wir uns mit den Begrifflichkeiten und Kenngrößen eines Messsystems befassen. Hierbei nehmen wir vorerst an, dass sich die Messwerte über die Zeit während des Messprozesses nicht ändern. Diese Art von Messsystemen werden *statische Messsysteme* genannt. \n",
    "\n",
    "```{tableofcontents}\n",
    "```"
   ]
  },
  {
   "cell_type": "markdown",
   "id": "c516f16d-882b-4e63-b03e-fd7ecd65d21b",
   "metadata": {},
   "source": [
    "## Zusammenfassung\n",
    "\n",
    "| Begriff | Beschreibung |\n",
    "|:--------------------|:----------------------------------------|\n",
    "|Empfindlichkeit | Das Verhältnis von Änderung der Ausgangsgröße zu der sie verursachenden Änderung der Eingangsgröße wird als Empfindlichkeit bezeichnet.|\n",
    "| Übertragungsfaktor | Er berechnet sich aus dem Quotienten von Ausgangsgröße zu Eingangsgröße eines Übertragungssystems (Definition der Empfindlichkeit für ideale Kennlinien). |\n",
    "| Kennlinie | Über den gesamten Eingangsbereich der Messeinrichtung wird der Übertragungsfaktor durch die statische Kennlinie beschrieben.|\n",
    "| Ideale Kennlinie | Lineare, statische Kennlinie |\n",
    "| Messbereich (engl. range) | Garantierter Bereich, in dem das Messgerät gemäß Spezifikation korrekt arbeitet |\n",
    "| Spanne (engl. span) | Differenz zwischen Messbereichsende und Messbereichsbeginn |\n",
    "| Vollbereichssignal (engl. full scale output) | Ausgang, der mit der „Spanne“ der Messwerteingänge korreliert |\n",
    "| Kenngröße, statisch / stationär | Kenngrößen, die im eingeschwungenen Zustand einer Übertragungseinrichtung wirksam sind. |\n",
    "| Kenngröße, dynamisch | Kenngrößen, die das zeitabhängige Übertragungsverhalten beschreiben.|"
   ]
  },
  {
   "cell_type": "code",
   "execution_count": null,
   "id": "1ac45d4c-6bc9-438b-99cf-131315e96dff",
   "metadata": {},
   "outputs": [],
   "source": []
  }
 ],
 "metadata": {
  "kernelspec": {
   "display_name": "Python 3",
   "language": "python",
   "name": "python3"
  },
  "language_info": {
   "codemirror_mode": {
    "name": "ipython",
    "version": 3
   },
   "file_extension": ".py",
   "mimetype": "text/x-python",
   "name": "python",
   "nbconvert_exporter": "python",
   "pygments_lexer": "ipython3",
   "version": "3.9.12"
  }
 },
 "nbformat": 4,
 "nbformat_minor": 5
}
