{
 "cells": [
  {
   "cell_type": "markdown",
   "id": "0c9cc975-9255-46ef-bae0-8007fc16c899",
   "metadata": {},
   "source": [
    "# Sensoren\n",
    "\n",
    "\n",
    "```{tableofcontents}\n",
    "```\n",
    "\n",
    "Ergebnisse zur Abfrage der Studierenden welche Sensoren behandelt werden sollen:"
   ]
  },
  {
   "cell_type": "code",
   "execution_count": 4,
   "id": "90e1b834-e255-4d84-81de-cbbc3943f8bb",
   "metadata": {
    "tags": [
     "hide-input"
    ]
   },
   "outputs": [
    {
     "data": {
      "text/html": [
       "<iframe src=\"https://forms.office.com/Pages/AnalysisPage.aspx?AnalyzerToken=XC4RvxxZCu2nKzIJkmNMnwrocmnYKT9G&id=P_cyWPqwoEWA2X4yvX-oIk4FMIgei_lKohbNUZhGGsxUNzFTOVlVWTRaUFA0Q0pVVDNWUEtDTUVJNi4u\" width=\"1200\" height=\"1000\"></iframe>\n"
      ],
      "text/plain": [
       "<IPython.core.display.HTML object>"
      ]
     },
     "metadata": {},
     "output_type": "display_data"
    }
   ],
   "source": [
    "%%html\n",
    "<iframe src=\"https://forms.office.com/Pages/AnalysisPage.aspx?AnalyzerToken=XC4RvxxZCu2nKzIJkmNMnwrocmnYKT9G&id=P_cyWPqwoEWA2X4yvX-oIk4FMIgei_lKohbNUZhGGsxUNzFTOVlVWTRaUFA0Q0pVVDNWUEtDTUVJNi4u\" width=\"1200\" height=\"1000\"></iframe>"
   ]
  }
 ],
 "metadata": {
  "kernelspec": {
   "display_name": "Python 3",
   "language": "python",
   "name": "python3"
  },
  "language_info": {
   "codemirror_mode": {
    "name": "ipython",
    "version": 3
   },
   "file_extension": ".py",
   "mimetype": "text/x-python",
   "name": "python",
   "nbconvert_exporter": "python",
   "pygments_lexer": "ipython3",
   "version": "3.9.12"
  }
 },
 "nbformat": 4,
 "nbformat_minor": 5
}
