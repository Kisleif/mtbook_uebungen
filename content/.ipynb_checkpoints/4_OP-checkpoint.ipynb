{
 "cells": [
  {
   "cell_type": "markdown",
   "id": "d0b548a4-10dd-4c71-86f1-d5249a4ab9a2",
   "metadata": {},
   "source": [
    "# Operationsverstärker (OP)"
   ]
  },
  {
   "cell_type": "markdown",
   "id": "daca9b8b-058e-4b4a-a159-45bbf62158be",
   "metadata": {},
   "source": [
    "::::::{margin}\n",
    ":::::{grid}\n",
    "::::{grid-item-card}\n",
    ":class-header: bg-light\n",
    "Operationsverstärker\n",
    "\n",
    "<iframe width=\"220\" src=\"https://www.youtube.com/embed/nl3JZbj9kHs\" title=\"YouTube video player\" frameborder=\"0\" allow=\"accelerometer; autoplay; clipboard-write; encrypted-media; gyroscope; picture-in-picture\" allowfullscreen></iframe>\n",
    "::::\n",
    ":::::\n",
    "::::::"
   ]
  },
  {
   "cell_type": "markdown",
   "id": "85aa4e8c-5097-43a8-8e3f-251d1766bc2b",
   "metadata": {},
   "source": [
    "Liegen kleine Signale vor, wie z.B. kleine Stromstärken $I$,  Spannungswerte $U$ oder Widerstandswerte $R$, so werden die Signale häufig als erstes verstärkt, was mittels einem Operationsverstärker (OP) realisiert wird. In {numref}`op` ist eine schematische Zeichnung eines OPs dargestellt. \n",
    "\n",
    ":::{figure-md} op\n",
    "<img src=\"draw/op.jpg\" alt=\"op\" width=\"400px\" label = op>\n",
    "\n",
    "Schematische Darstellung eines Operationsverstärkers (OPs) mit Eingangs-Innenwiderstand $R_e$, Ausgangs-Innenwiderstand $R_i$ und Spannungsversorgung $U_V$. $U_d$ ist die angelegte Eingangsspannung an dem differentiellen Eingang des OPs. $U_a$ ist die Ausgangsspannung.\n",
    ":::"
   ]
  },
  {
   "cell_type": "markdown",
   "id": "ff46c660-00b3-4bff-bc2f-b2436d6e2502",
   "metadata": {},
   "source": [
    "## Eigenschaften"
   ]
  },
  {
   "cell_type": "markdown",
   "id": "9ae0f8bf-ccd9-48a3-b590-2c53c25e7e26",
   "metadata": {},
   "source": [
    "Dies sollte möglichst **rückwirkungsfrei** geschehen, das heißt dass die Verstärkerschaltung möglichst wenig Einfluss auf die Messgröße und die weiterführende Signalverarbeitung hat. \n",
    "Für eine Spannung, die man anlegt, sollte der **Eingangs-Innenwiderstand $R_e$** also **möglichst groß** sein, um den kompletten Spannungsabfall zu messen. \n",
    "Typische *reale* Werte liegen zwischen $R_e' \\approx 10^6 - 10^{12}\\,\\mathrm{\\Omega}$. Der Innenwiderstandswert eines *idealen* OPs wäre $R_e = \\infty$. \n",
    "\n",
    "Desweiteren möchte man eine **hohe Empfindlichkeit** und eine **große Verstärkung** erreichen, weshalb eine zusätzliche Strom- bzw. **Spannungsversorgung $U_V$** von Nöten ist, da die zusätzlich Energie von Außen dem System zugeführt werden muss. Dies ist der allgemein Sinn von Operationsverstärkern. Die Verstärkung ist allgemein definiert als \n",
    "\n",
    "$$ k' = \\frac{U_\\mathrm a}{U_\\mathrm d} $$\n",
    "\n",
    "wobei $k'$ die reale Verstärkung des OPs ist, $k$ wäre die des *idealen* OPs ($k = \\infty$) und $U_\\mathrm a$ ist die Ausgangsspannung und $U_\\mathrm d$ die differentielle Eingangsspannung. Reale Verstärkungsfaktoren liegen in der Größenordnung von $k' \\approx 10^6$. \n",
    "\n",
    "Das Ausgangssignal sollte weiterdessen direkt mit dem Eingangssignal korreliert sein, d.h. wir wünschen uns ein **definiertes Übertragungsverhalten**. Dem Eingangssignal sollte zudem möglichst gut und schnell gefolgt werden, d.h. es sollten keine allzu großen Verzögerungen auftreten. Dies wird über das **dynamische Verhalten** des verwendeten OPs bestimmt. Reale OPs haben eine begrenzte Bandbreite die berücksichtigt werden muss. \n",
    "Am Ausgang sollte ein möglichst kleiner Innenwiderstand vorzufinden sein, sodass wir ein **eingeprägtes Ausgangssignal** annehmen können, d.h. das Ausgangssignal ist gut weiterverwendbar und beeinflusst nicht die folgende Schaltung. \n"
   ]
  },
  {
   "cell_type": "markdown",
   "id": "d781955e-9c41-47aa-966a-430d59f45ead",
   "metadata": {},
   "source": [
    "::::::{margin}\n",
    ":::::{grid}\n",
    "::::{grid-item-card}\n",
    ":class-header: bg-light\n",
    "Elektrometer und weitere Beispiele\n",
    "\n",
    "<iframe width=\"220\" src=\"https://www.youtube.com/embed/wiq93KjXwao\" title=\"YouTube video player\" frameborder=\"0\" allow=\"accelerometer; autoplay; clipboard-write; encrypted-media; gyroscope; picture-in-picture\" allowfullscreen></iframe>\n",
    "::::\n",
    ":::::\n",
    "::::::\n"
   ]
  },
  {
   "cell_type": "markdown",
   "id": "d7c52279-e793-41d4-b9a2-0299ec23abc2",
   "metadata": {},
   "source": [
    "## Elektrometerverstärker\n",
    "\n",
    "Der Elektrometerverstärker verstärkt ein gewisses Eingangssignal und besteht aus einem Operationsverstärker mit zwei Widerständen wie in {numref}`op_electro` dargestellt.\n",
    "\n",
    ":::{figure-md} op_electro\n",
    "<img src=\"draw/op_electrometer.jpg\" alt=\"op_electro\" width=\"400px\" label = op_electro>\n",
    "\n",
    "Schematische Darstellung eines Elektrometerverstärkers.\n",
    ":::\n",
    "\n",
    "Folgende Beziehung kann über die Maschenregel hergeleitet werden, wenn der Eingangsschaltkreis betrachtet wird:\n",
    "\n",
    "$$U_e - \\frac{R_2}{R_1+R_2} U_a - U'_e$$\n",
    "\n",
    "wobei $U_e$ die Eingangsspannung ist, $U_a$ die Ausgangsspannung und $U'_e$ die Spannung, die am Eingang des OPs abfällt. Daraus folgt:\n",
    "\n",
    "$$U'_e = U_e - \\frac{R_2}{R_1+R_2} U_a$$\n",
    "\n",
    "Für den Ausgangsschaltkreis folgt mittels Maschenregel:\n",
    "\n",
    "$$k U'_e - I_a R_L - I_a R'_i = kU'_e - U_a - U_a \\frac{R_i}{R_L} = 0$$\n",
    "\n",
    "wobei $k'$ der Verstärungsfaktor des OPs ist, die auf die Eingangsspannung $U'_e$ des OPs wirkt. $R_L$ der Laserwiderstand und $I_a$ die Ausgangsstromstärke. \n",
    "\n",
    "Die beiden Gleichungen werden so kombiniert, dass alle $U'_e$ eliminiert werden:\n",
    "\n",
    "$$U_e - U_a \\left( \\frac{R_1}{R_1+R_2} - \\frac{1}{k'} - \\frac{R'_i}{k'R_L} \\right) = 0$$\n",
    "\n",
    "und wir können die Gleichung nach der Elektrometer-Verstärkung $k_E = U_a / U_e$ umformen:\n",
    "\n",
    "$$k_E = \\frac{U_a}{U_e} = \\frac{1}{\\frac{R_1}{R_1 + R_2} - \\frac{1}{k'} - \\frac{R'_i}{k'R_L}}$$\n",
    "\n",
    "$k_E$ ist hierbei der Verstärkungsfaktor der kompletten Schaltung und $k'$ die Verstärkung des OPs. \n",
    "\n",
    "Für einen idealen OP ($k' \\rightarrow \\infty$) folgt:\n",
    "\n",
    "$$U_a = \\left( 1 + \\frac{R_1}{R_2} \\right) U_e$$"
   ]
  },
  {
   "cell_type": "markdown",
   "id": "bbd788c6-2174-465e-b781-9968baeada12",
   "metadata": {},
   "source": [
    "## Impedanzverstärker\n",
    "\n",
    "Auch hier gibt es wieder ein Rückkopplung vom Ausgang des OPs an den Eingang. \n",
    "\n",
    ":::{figure-md} op_impedanz\n",
    "<img src=\"draw/op_impedanz.jpg\" alt=\"op_impedanz\" width=\"300px\" label = op_impedanz>\n",
    "\n",
    "Schematische Darstellung eines Impedanzwandlers.\n",
    ":::\n",
    "\n",
    "\n",
    "Für einen idealen OP gilt\n",
    "\n",
    "$$U'_e = 0$$\n",
    "\n",
    "Über die Maschenregel folgt:\n",
    "\n",
    "$$U_e = U_a$$\n",
    "\n",
    "Dass die Ausgangsspannung dem Eingangssignal bedinglos folgt gilt jedoch nur für bestimmte Grenzfrequenzen der OPs und der Schaltung, da ein OP ein dynamisches Verhalten aufweist. Die maximale Frequenzen, die der OP noch übertragen kann, passen den Verstärkungsfaktor an, bzw. umgekehrt. \n",
    "\n",
    "## Strom-Spannungs-Wandler/Verstärker\n",
    "\n",
    "Wir gehen wieder davon aus, dass wir einen idealen Verstärker vorliegen haben, d.h. \n",
    "\n",
    "$$U'_e = 0$$\n",
    "\n",
    ":::{figure-md} op_IU\n",
    "<img src=\"draw/op_IU.jpg\" alt=\"op_IU\" width=\"400px\" label = op_IU>\n",
    "\n",
    "Schematische Darstellung eines Strom-Spannungs-Verstärkers.\n",
    ":::\n",
    "\n",
    "Diese Spannung treibt den Strom $I_{1}$ an, wobei durch den OP kein Strom fließt, d.h. der gesamte Strom muss durch $R_1$ fließen:\n",
    "\n",
    "$$I_{1} = \\frac{U_e}{R_1}$$\n",
    "\n",
    "Abfließen kann dies durch den Widerstand $R_2$, d.h. es gilt nach der Knotenregel:\n",
    "\n",
    "$$I_{2} = -I_{1}$$\n",
    "\n",
    "Dadurch folgt:\n",
    "\n",
    "$$I_{1} = \\frac{U_e}{R_1} = -I_{2} = -\\frac{U_a}{R_2}$$\n",
    "\n",
    "Dies kann so umgeformt werden, dass sich der Verstärkungsfaktor $k = U_a/U_e$ der Schaltung ergibt:\n",
    "\n",
    "$$k = -\\frac{R_2}{R_1}$$\n",
    "\n",
    "Es handelt sich also um eine Verstärkerschaltung für Spannungen, bzw. um einen Stromwandler. \n",
    "\n",
    "Weitere Beispiele und Verstärkungsfaktoren sind in {numref}`ops` dargestellt."
   ]
  },
  {
   "cell_type": "markdown",
   "id": "bad51412-cf7c-4950-a3c4-ff7de4e2e49c",
   "metadata": {},
   "source": [
    "## Weitere Beispiele\n",
    "\n",
    ":::{figure-md} ops\n",
    "<img src=\"pictures/ops.jpg\" alt=\"ops\" width=\"600px\" label = ops>\n",
    "\n",
    "Verschiedene Operationsverstärker-Schaltungen inklusive Verstärkungsfaktor.\n",
    ":::"
   ]
  },
  {
   "cell_type": "code",
   "execution_count": null,
   "id": "ac74f580-da45-4797-9752-f331e90138be",
   "metadata": {},
   "outputs": [],
   "source": []
  }
 ],
 "metadata": {
  "kernelspec": {
   "display_name": "Python 3",
   "language": "python",
   "name": "python3"
  },
  "language_info": {
   "codemirror_mode": {
    "name": "ipython",
    "version": 3
   },
   "file_extension": ".py",
   "mimetype": "text/x-python",
   "name": "python",
   "nbconvert_exporter": "python",
   "pygments_lexer": "ipython3",
   "version": "3.9.12"
  }
 },
 "nbformat": 4,
 "nbformat_minor": 5
}
