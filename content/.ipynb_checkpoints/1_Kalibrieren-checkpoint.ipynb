{
 "cells": [
  {
   "cell_type": "markdown",
   "id": "785f722d-2ca7-4e32-b411-6c5b6bd7e753",
   "metadata": {},
   "source": [
    "# Kalibrieren und Eichen\n",
    "\n",
    "Messgeräte sind unter Umständen unterschiedlichen Belastungen aus der Umgebung ausgesetzt, die sich im Laufe der Zeit unbemerkt auf die Messwerte auswirken können. Ist ein Gerät einmal ungenau geworden, kann dies zu Störungen in Prozessabläufen führen oder sogar gravierende Sicherheitsrisiken verursachen, was häufig mit hohen Kosten verbunden ist. Daher ist eine regelmäßige Überprüfung und Kalibrierung empfehlenswert und oft vorgeschrieben.\n",
    "\n",
    "::::::{margin}\n",
    ":::::{grid}\n",
    "::::{grid-item-card}\n",
    ":class-header: bg-light\n",
    "Messgeräte kalibrieren | Was ist der Unterschied zwischen Kalibrierung, Eichung und Justage? (WIKA Gruppe)\n",
    "\n",
    "<iframe width=\"200\" height=\"113\" src=\"https://www.youtube.com/embed/QJuB-Sijdu0\" title=\"YouTube video player\" frameborder=\"0\" allow=\"accelerometer; autoplay; clipboard-write; encrypted-media; gyroscope; picture-in-picture; web-share\" allowfullscreen></iframe>\n",
    "::::\n",
    ":::::\n",
    "::::::\n",
    "\n",
    "\n",
    "In der Messtechnik ist es wichtig, zwischen verschiedenen Begrifflichkeiten zu unterscheiden, da in der Umgangssprache häufig Unklarheiten auftreten. Ein grundlegender Unterschied besteht zwischen dem **Messen** und dem **Prüfen** von Größen.\n",
    "\n",
    "- **Messen**: Beim Messen erfasst man den Wert einer physikalischen Größe, ohne eine spezifische Prüfung oder Überprüfung durchzuführen.\n",
    "\n",
    "- **Prüfen**: Das Prüfen hingegen bezieht sich auf die Überprüfung, ob ein Prüfgegenstand bestimmte Vorgaben oder Spezifikationen erfüllt. Dabei werden Prüfbedingungen festgelegt, die in Normen oder Standards festgehalten sind. Zum Beispiel kann die elektromagnetische Verträglichkeit (EMV) geprüft werden, wobei konkrete Randbedingungen für Messaufbauten bei Messgeräten definiert sind. Prüfen geht somit über das bloße Messen einer Größe hinaus.\n",
    "\n",
    "## Kalibrieren\n",
    "\n",
    "Messsysteme weisen in der Regel Messgenauigkeiten auf, die die Präzision der Messungen begrenzen. Diese Messgenauigkeit kann werksseitig während des Herstellungsprozesses oder später in der gewünschten Testumgebung verbessert werden. Hierzu benötigt man eine **bekannte Referenz**, die an das Messgerät angeschlossen werden kann. Das Messsystem kann dann so eingestellt werden, dass der angezeigte Messwert möglichst genau dem **bekannten** Referenzwert entspricht. Alternativ kann auch ein Präzisionsmessgerät als Referenz benutzt werden, mit dem das zu kalibrierende Gerät verglichen wird. Das Referenzgerät muss genauer als das Messgerät sein und rückführbar sein.\n",
    "\n",
    "Mittels der Referenz kann die Messabweichung bestimmt werden. Weicht der gemessene Wert stark von der Referenz ab, wird das Messgerät neu eingestellt, was als **Justieren** bezeichnet wird.\n",
    "\n",
    ":::{figure-md} eichung\n",
    "<img src=\"draw/eichung.jpg\" alt=\"eichung\" class=\"bg-primary mb-1\" width=\"600px\" label = eichung>\n",
    "\n",
    "Die Kalibrierung eines Messystems kann auf zwei Arten und Weisen entstehen: Entweder durch den Vergleich mit einem zusätzlichen Präzisionsmessgerät (links) oder durch Vermessung eines *Normals*, was den *wahren* Wert wiederspiegelt (rechts). \n",
    ":::\n",
    "\n",
    "## Eichen\n",
    "\n",
    "Unter dem Begriff **Eichen** versteht man einen speziellen Vorgang der Kalibrierung. Hier wird der Kalibriervorgang durch eine staatliche Stelle beglaubigt. Dies ist beispielsweise beim Verbraucherschutz vorgeschrieben.\n",
    "\n",
    "Die Eichung beinhaltet die Prüfung und Stempelung eines Messgeräts, die gemäß den gesetzlichen Eichvorschriften erfolgt. Diese Eichung ist erforderlich, wenn Messsysteme im gewerblichen Verkehr oder Handel eingesetzt werden, wie beispielsweise bei einer Obst- und Gemüsewaage an der Kasse eines Supermarktes. Die Eichung gewährleistet dem Verbraucher eine gewisse Sicherheit, dass das Messgerät innerhalb bestimmter Toleranzgrenzen genau arbeitet. In Deutschland regelt die **Mess- und Eichverordnung** dieses Verfahren. Das Eichen ist ein hoheitlicher Akt und darf nur in von staatlichen Behörden autorisierten Eichämtern durchgeführt werden. Zudem muss die Eichung in regelmäßigen Abständen wiederholt werden.\n",
    "\n",
    "Um eine möglichst gute Genauigkeit und Manipulationssicherheit zu gewährleisten, werden die meisten Messgeräte bereits während des Herstellungsprozesses kalibriert oder geeicht. In Deutschland ist die Physikalisch-Technische Bundesanstalt (PTB) in Braunschweig und Berlin für diese Aufgabe zuständig.\n",
    "\n",
    "## Normale\n",
    "\n",
    "Normale sind Maßverkörperungen, die einfach handhabbar sind und von Basisgrößen abgeleitet werden können. Die Basiseinheiten oder von ihnen abgeleitete Einheiten werden in der Praxis oft über atomare Naturkonstanten definiert, was jedoch in vielen Fällen unpraktisch oder unumsetzbar ist.\n",
    "\n",
    "Im **BIPM** (Internationales Büro für Maß und Gewicht) werden praktisch anwendbare **Primärnormale** direkt von Basisgrößen abgeleitet und hergestellt. Diese Primärnormale werden kontinuierlich überwacht, um ihre Genauigkeit sicherzustellen. Für nahezu jede Messgröße existieren solche Primärnormale, wie zum Beispiel für Ohm, Volt, Henry, Farad und viele mehr.\n",
    "\n",
    "Jedes Land, das den Vertrag bei der Generalkonferenz für Maß und Gewicht unterzeichnet hat, erhält ein solches Primärnormal. Von diesen Primärnormalen werden **Sekundärnormale** innerhalb der Länder abgeleitet. Diese Sekundärnormale dienen wiederum zur Eichung von betrieblichen Arbeitsnormalen in Eichlaboren, Behörden oder Ämtern.\n",
    "\n",
    "**Arbeitsnormale** sind Abwandlungen der Sekundärnormale und werden in Unternehmen verwendet, um betriebliche Messmittel eigenständig zu kalibrieren. Damit wird sichergestellt, dass die in der Industrie verwendeten Messgeräte den erforderlichen Genauigkeitsstandards entsprechen.\n",
    "\n",
    ":::{figure-md} normal\n",
    "<img src=\"draw/normal.jpg\" alt=\"normal\" class=\"bg-primary mb-1\" width=\"600px\" label = normal>\n",
    "\n",
    "Die verschiedenen Stadien eines *Normals* für verschiedene Anwendungen und Benutzer. \n",
    ":::"
   ]
  }
 ],
 "metadata": {
  "kernelspec": {
   "display_name": "Python 3",
   "language": "python",
   "name": "python3"
  },
  "language_info": {
   "codemirror_mode": {
    "name": "ipython",
    "version": 3
   },
   "file_extension": ".py",
   "mimetype": "text/x-python",
   "name": "python",
   "nbconvert_exporter": "python",
   "pygments_lexer": "ipython3",
   "version": "3.9.12"
  }
 },
 "nbformat": 4,
 "nbformat_minor": 5
}
