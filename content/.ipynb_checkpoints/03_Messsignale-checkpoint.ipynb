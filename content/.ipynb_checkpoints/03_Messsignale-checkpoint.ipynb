{
 "cells": [
  {
   "cell_type": "markdown",
   "metadata": {},
   "source": [
    "# Messsignale"
   ]
  },
  {
   "cell_type": "markdown",
   "metadata": {},
   "source": [
    "Bisher haben wir uns mit dem stationären Messungen einer physikalischen Größe befasst. Bis zu diesem Punkt sollte jedem bekannt sein was eine Kennlinie $y(x)$ ist und was die Sensitivität bedeutet. Außerdem haben wir uns mit Störungen und Unsicherheiten befasst, die während Messungen auftreten können und wie wir diese anhand von Fehlerabschätzungen und Fehlerfortpflanzungen abschätzen können. Außerdem sollte jede/r in der Lage eine Kurvenanpassung inkl. Fehlerbalken und Fehlerfortpflanzung auf gemessene Werte anwenden zu können.\n",
    "\n",
    "```{tableofcontents}\n",
    "```"
   ]
  },
  {
   "cell_type": "markdown",
   "metadata": {},
   "source": [
    "## Zusammenfassung\n",
    "\n",
    "| Begriff | Beschreibung |\n",
    "|:--------------------|:----------------------------------------|\n",
    "|Messsignal|Träger der Information von physikalischen Größen: Messinformation die von der Messgröße ermittelt wurde|\n",
    "|(zeit-) kontinuierlich|Messwert besitzt zu jedem Zeitpunkt einen bestimmten Wert|\n",
    "|wertkontinuierlich / analog|Ein Signal mit einem unendlichen Wertevorrat für die Messwerte|\n",
    "|zeitdiskret / diskontinuierlich|Messwerte sind nur zu bestimmten Zeitpunkten definiert|\n",
    "|wertdiskret / amplitudendiskret|Ein Signal mit einem endlichen Wertevorrat für die Messwerte|\n",
    "|Digital|Signale, die sowohl zeit-, als auch wertdiskret sind|\n",
    "|Deterministisch|Größe / Informationsparameter ist zu jedem Zeitpunkt eindeutig definiert|\n",
    "|Stochastisch|Größe unterliegt zufälligen Einflüssen. Eine Wertezuordnung ist nur über längere Betrachtung und statistischer Analyse möglich (Rauschen beispielsweise)|\n",
    "|Modulation|Informationssignal verändert ein Trägersignal in Amplitude, Frequenz oder Phase|\n",
    "|Demodulation|Einrichtung zur Rückgewinnung des Modulationssignals (Messinformation)|\n",
    "|Analog-Digital-Wandlung|Abbildung eines analogen Wertevorrats auf einen endlichen|\n",
    "|Aliasing|Möglicher Fehler bei der Digitalisierung bei Verletzung Nyquist-Shannon. Durch Aliasing kann ursprüngliche analoge Zeitfunktion nicht mehr rekonstruiert werden.|\n",
    "|Mittelwert|Nach vereinbarter Berechnungsvorschrift ermittelter repräsentativer Wert für ein zeitveränderliches Signa, der dieses Signal durch nur einen Zahlenwert beschreibt|\n",
    "|Periodisches Signal|Ein Signal, bei dem eine Wiederholung des Zeitverlaufs der Amplitude des Signals nach der Periodendauer T erkennbar ist|\n",
    "|Formfaktor|Quotient aus Effektivwert und Gleichrichtwert eines periodischen Signals|\n",
    "|Scheitelfaktor (Crestfaktor)|Quotient von Spitzenwert (Amplitude) und Effektivwert eines perdioschen Signals|\n",
    "|Effektivwert|Quadratischer Mittelwert, welcher zur Berechnung von Leistungen genutzt wird|\n",
    "|Gleichrichtwert|Gleichgerichteter Mittelwert für Einweg- oder Zweiweggleichrichtungen. Kann als Maß für die Amplitude genutzt werden|\n",
    "|Fourier-Reihen|Jedes periodische Signal kann als Summe von Sinus- und Cosinusfunktionen geschrieben werden|\n",
    "|Fourier-Koeffizienten|Geben an wie stark eine bestimmte Frequenz in einem persischem Signal vertreten ist|\n",
    "|Amplituden-/Betragsspektrum|Grafische Darstellung der Frequenzanteile in einem Amplituden-Frequenz-Diagram |\n",
    "|Fourier-Transformation|Spektrum eines aperiodischen Signals. Liefert anstelle eines Amplitudenspektrums ein Amplitudendichtespektrum|\n",
    "|Amplitudendichtespektrum|Normierung des Amplitudenspektrum mit der Abtastfrequenz. Einheit z.B. V/Hz|"
   ]
  }
 ],
 "metadata": {
  "kernelspec": {
   "display_name": "Python 3",
   "language": "python",
   "name": "python3"
  },
  "language_info": {
   "codemirror_mode": {
    "name": "ipython",
    "version": 3
   },
   "file_extension": ".py",
   "mimetype": "text/x-python",
   "name": "python",
   "nbconvert_exporter": "python",
   "pygments_lexer": "ipython3",
   "version": "3.9.12"
  }
 },
 "nbformat": 4,
 "nbformat_minor": 4
}
