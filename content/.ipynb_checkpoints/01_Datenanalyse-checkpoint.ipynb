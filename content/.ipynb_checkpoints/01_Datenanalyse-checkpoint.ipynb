{
 "cells": [
  {
   "cell_type": "markdown",
   "id": "3746ea28-1a02-47ce-bbb7-a5aa14dfa240",
   "metadata": {},
   "source": [
    "# Messabweichung\n",
    "\n",
    "Viele Studierende sammeln im Praktikum erstmals Erfahrung im Umgang mit Messdaten, nehmen eigene Messreihen auf und müssen diese begründbar und nachvollziehbar auswerten und darstellen. Im Studium, z.B. im Rahmen von Semester-, Abschluss- oder sogar Promotionsarbeiten müssen Analyse und Präsentation wissenschaftlich und sachgerecht sein. Auf den folgenden Seiten findet ihr das absolute Minimum an notwendigen Hilfsmitteln, Grundideen und Praktiken, die ihr bei der Auswertung von Messdaten im Praktikum berücksichtigen solltet! \n",
    "\n",
    "```{tableofcontents}\n",
    "```"
   ]
  },
  {
   "cell_type": "markdown",
   "id": "cd707124-2dd9-4652-974e-03b167791312",
   "metadata": {
    "tags": []
   },
   "source": [
    "## Zusammenfassung\n",
    "\n",
    "| Begriff | Beschreibung |\n",
    "|:--------------------|:----------------------------------------|\n",
    "|Messgröße | die spezielle Größe der Messung, $x$ |\n",
    "|Wahrer Wert | Tatsächlich vorhandener Wert einer physikalischen Größe, er ist durch eine endliche Genauigkeit der verwendeten Messmittel nicht exakt bestimmbar. |\n",
    "|Richtiger Wert|Mit denkbar größtem technischem und theoretischem Aufwand ermittelter Messwert, der als Bezugswert zur Bewertung eines Messergebnisses benutzt wird. |\n",
    "|Messergebnis / Messwert | (Schätz-)Wert, den die Messgröße durch Auswertung einer Messung bekommt|\n",
    "|Messreihe|Aufnahme von mehreren Messwerten von einem Messaufbau unter möglichst identischen Messbedingungen, d. h. unter Wiederholbedingungen. Die Messreihe wird zur statistischen Analyse und damit zur Bewertung der zufälligen Einflüsse auf ein Messergebnis benötigt.|\n",
    "|Messabweichung|Differenz zwischen ermitteltem Messwert (Schätzwert der Messgröße) und dem richtigen Wert der Messgröße|\n",
    "|Unsicherheit|Von zufälligen Einflüssen verursachte Abweichungen eines Messergebnisses (z.B. über Statistik abschätzen)|\n",
    "|arithmetischer Mittelwert $\\overline x$ | Schätzwert für den wahren Wert einer Messgröße aus einer Messreihe mit den Messwerten $x_j$ und der Anzahl der Messwerte $m$: $\\overline x = \\frac{1}{m}\\sum_{j=1}^m x_j$|\n",
    "|Erwartungswert|Mittelwert einer unendlichen Gesamtheit|\n",
    "|Messunsicherheit $u(x)$ | Wichtiger Bestandteil zur Angabe eines Messergebnisses. Die Unsicherheit charakterisiert einen Vertrauensbereich, der der Messgröße zugeschrieben wird: $\\overline x \\pm u(x)$ |\n",
    "|relative Messunsicherheit | Messunsicherheit dividiert durch den Betrag des Mittelwerts: $A_{r} = \\frac{u(x)}{\\lvert (\\overline x)\\rvert}$| \n",
    "|Varianz: mittlere quadratische Abweichung $s^2(x)$ | Beschreibt die quadratische Abweichung einer Zufallsvariable von dem Erwartungswert der betrachteten Gesamtheit. Ein Maß für die Messunsicherheit. $s^2 = \\frac{1}{m-1} \\sum_{j=1}^m (x_j - \\overline x)^2$|\n",
    "|Standardabweichung | In der Messtechnik auch als Streuung bezeichnet, sie ist die Quadratwurzel aus der von zufälligen Einflüssen verursachte Abweichung eines Messergebnisses (Wurzel der Varianz). Wurzel aus der mittleren quadratischen Abweichung:  $s = \\sqrt{\\frac{1}{m-1} \\sum_{j=1}^m (x_j - \\overline x)^2}$ |\n",
    "|empirische Varianz $\\sigma^2(x)$ | Schätzung der Varianz bezogen auf den *wahren* Wert (nicht auf den Mittelwert der Messreihe) der Messgröße: $\\sigma^2 = \\lim_{m\\rightarrow \\infty}\\frac{1}{m} \\sum_{j=1}^m (x_j - \\mu)^2$|\n",
    "|empirische Standardabweichung $\\sigma(x)$ | Wurzel aus der empirischen Varianz: $\\sigma = \\lim_{m\\rightarrow \\infty}\\sqrt{\\frac{1}{m} \\sum_{j=1}^m (x_j - \\mu)^2}$|\n",
    "|Wahrscheinlichkeitsverteilung $dP(x)$ | eine Funktion, die die Wahrscheinlichkeit angibt, dass eine Messgröße $x$ durch Messung einen bestimmten Wert $x_j + dx$ annehmen wird.| \n",
    "|Korrektur|Von der systematischen Abweichung abgeleiteter Korrekturwert zur Berichtigung eines Schätzwertes einer Messgröße.|\n",
    "|Genauigkeitsklasse|Von den Fehlergrenzen abgeleitete Genauigkeitsangabe für Messeinrichtungen.|\n",
    "|Korrelation|Maß für die lineare Korrelation zweier Messgrößen!|"
   ]
  },
  {
   "cell_type": "markdown",
   "id": "7514eaaa-cca8-43d5-ac93-b70409104bb7",
   "metadata": {},
   "source": [
    ":::{figure-md} zusammenfassung_abw\n",
    "<img src=\"draw/zusammenfassung_abw.jpg\" alt=\"zusammenfassung_abw\" width=\"600px\" label = zusammenfassung_abw>\n",
    "\n",
    "Korrektur und Angabe des Messergebnisses\n",
    ":::"
   ]
  },
  {
   "cell_type": "code",
   "execution_count": null,
   "id": "2be942bf-18a1-44f6-8b67-985b47446d06",
   "metadata": {},
   "outputs": [],
   "source": []
  }
 ],
 "metadata": {
  "kernelspec": {
   "display_name": "Python 3",
   "language": "python",
   "name": "python3"
  },
  "language_info": {
   "codemirror_mode": {
    "name": "ipython",
    "version": 3
   },
   "file_extension": ".py",
   "mimetype": "text/x-python",
   "name": "python",
   "nbconvert_exporter": "python",
   "pygments_lexer": "ipython3",
   "version": "3.9.12"
  }
 },
 "nbformat": 4,
 "nbformat_minor": 5
}
