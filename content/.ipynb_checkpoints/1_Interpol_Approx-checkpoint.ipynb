{
 "cells": [
  {
   "cell_type": "markdown",
   "id": "6b7075ee-22a1-4638-851a-6053ff0753fe",
   "metadata": {},
   "source": [
    "# Interpolation vs. Regression\n",
    "\n",
    "::::::{margin}\n",
    ":::::{grid}\n",
    "::::{grid-item-card}\n",
    ":class-header: bg-light\n",
    "Lineare Interpolation, Herleitung, Formel | Mathe by Daniel Jung\n",
    "\n",
    "<iframe width=\"200\" height=\"113\" src=\"https://www.youtube.com/embed/KYiIGZYrb9M?si=s_kiYrsBAeFq9hkW\" title=\"YouTube video player\" frameborder=\"0\" allow=\"accelerometer; autoplay; clipboard-write; encrypted-media; gyroscope; picture-in-picture; web-share\" allowfullscreen></iframe>\n",
    "::::\n",
    ":::::\n",
    "::::::\n",
    "\n",
    "Interpolation und Anpassung (Regression) sind zwei verschiedene Methoden in der Datenanalyse und haben unterschiedliche Zwecke. Die Interpolation zielt darauf ab, fehlende Werte zwischen bekannten Datenpunkten zu schätzen, um eine kontinuierliche Funktion oder Kurve zu erstellen, die die vorhandenen Datenpunkte exakt durchläuft. Dies ist nützlich, wenn wir genaue Werte für bestimmte Zwischenpunkte benötigen und sicherstellen möchten, dass unsere Schätzung die vorhandenen Daten genau wiedergibt. Interpolation wird häufig in Bereichen wie Geoinformationssystemen verwendet, um topografische Karten zu erstellen, oder in der Bildverarbeitung, um Pixeldaten zu glätten.\n",
    "\n",
    "Auf der anderen Seite dient die Anpassung oder Regression dazu, den besten passenden mathematischen Ausdruck (z. B. eine Gerade, Parabel oder höhergradige Funktion) an vorhandene Daten anzupassen. Dabei wird nicht erwartet, dass die Kurve die Datenpunkte exakt durchläuft, sondern dass sie den allgemeinen Trend der Daten wiedergibt. Regression wird verwendet, um Beziehungen zwischen Variablen zu modellieren, Vorhersagen zu treffen oder Muster in den Daten zu identifizieren. Zum Beispiel kann die lineare Regression dazu verwendet werden, den Zusammenhang zwischen zwei Variablen zu analysieren, wie den Einfluss von Werbeausgaben auf den Umsatz eines Unternehmens.\n",
    "\n",
    "Insgesamt kann gesagt werden, dass Interpolation verwendet wird, um fehlende Werte zwischen bekannten Punkten genau zu schätzen, während die Regression dazu dient, mathematische Modelle zur Beschreibung von Trends oder Beziehungen zwischen Variablen auf Grundlage vorhandener Daten zu entwickeln. Beide Techniken haben wichtige Anwendungsgebiete in Wissenschaft, Ingenieurwesen und Datenanalyse, je nach den spezifischen Anforderungen eines Problems.\n",
    "\n",
    "* **Regression**: Untersuchung der *Korrelation* von Datenpunkten ohne Messfehler mit angenommenem Zusammenhang\n",
    "* **Fit/Anpassung**: wie die Regression, allerdings unter Berücksichtigung von Messfehlern. \n",
    "* **Interpolation**: Hierbei handelt es sich nicht um eine Regression bzw. Approximation. Anstelle eines funktionalen Zusammenhangs, der an die Messwerte angenähert wird, verwendet man Polynome hohen Grades, um eine analytische Funktion zu beschreiben, die **exakt** durch alle Messpunkte geht. Für eine große Anzahl von Messwerten wird die Interpolationsfunktion sehr schnell unhandlich. "
   ]
  },
  {
   "cell_type": "code",
   "execution_count": 1,
   "id": "2bde9221-ac4c-4cb1-83ac-0040975a2a23",
   "metadata": {
    "tags": [
     "hide-input"
    ]
   },
   "outputs": [
    {
     "data": {
      "image/png": "[encoded data removed]",
      "text/plain": [
       "<Figure size 600x300 with 2 Axes>"
      ]
     },
     "metadata": {},
     "output_type": "display_data"
    }
   ],
   "source": [
    "import numpy as np\n",
    "import matplotlib.pyplot as plt\n",
    "from scipy.optimize import curve_fit\n",
    "from scipy import interpolate\n",
    "\n",
    "# MatplotLib Settings:\n",
    "plt.style.use('default') # Matplotlib Style wählen\n",
    "plt.figure(figsize=(6,3)) # Plot-Größe\n",
    "#plt.xkcd()\n",
    "plt.rcParams['font.size'] = 10; # Schriftgröße\n",
    "\n",
    "# INTERPOLATION:\n",
    "plt.subplot(1,2,1)\n",
    "x = np.arange(10, 200, 40)\n",
    "y = np.sqrt(x)\n",
    "plt.plot(x,y,'o', color='tab:gray')\n",
    "\n",
    "tck = interpolate.splrep(x, y, s=0)\n",
    "yfit = interpolate.splev(x, tck, der=0)\n",
    "\n",
    "plt.plot(x,yfit, zorder=0, color = 'tab:blue')\n",
    "\n",
    "plt.xlabel('x')\n",
    "plt.ylabel('y')\n",
    "plt.title('Interpolation')\n",
    "plt.xticks([])\n",
    "plt.yticks([])\n",
    "\n",
    "# ANPASSUNG:\n",
    "plt.subplot(1,2,2)\n",
    "x = np.arange(10, 200, 10)\n",
    "stoerung = np.random.normal(scale=0.6, size=x.shape)\n",
    "y = np.sqrt(x)+stoerung\n",
    "plt.plot(x,y,'o', color='tab:gray')\n",
    "\n",
    "# Anpassung / Fit:\n",
    "def anpassung(x, a):\n",
    "    return a*np.sqrt(x)\n",
    "popt, pcov = curve_fit(anpassung, x, y)\n",
    "plt.plot(x,anpassung(x,*popt), zorder=0, color = 'tab:blue')\n",
    "\n",
    "plt.xlabel('x')\n",
    "plt.ylabel('y')\n",
    "plt.title('Approximation/Fit')\n",
    "plt.xticks([])\n",
    "plt.yticks([])\n",
    "\n",
    "plt.tight_layout()"
   ]
  },
  {
   "cell_type": "markdown",
   "id": "43951cf9-2c5f-4447-9698-0e9c16a067a5",
   "metadata": {},
   "source": [
    "## Lineare Interpolation\n",
    "\n",
    "In der Interpolation wird oft der funktionale Zusammenhang $f(x)$ zwischen den Messgrößen $x$ und $y$ nicht explizit gegeben. Stattdessen werden lediglich einige Stützstellen gemessen, und man möchte den Wert von $y$ für einen Zwischenpunkt $x$ schätzen, der zwischen den vorhandenen Datenpunkten liegt. Dies ist besonders nützlich, wenn wir kontinuierliche Informationen aus diskreten Daten extrahieren möchten.\n",
    "\n",
    "Angenommen, wir haben zwei Messpunkte:\n",
    "\n",
    "$$f(2) = 4$$\n",
    "\n",
    "$$f(3) = 25$$\n",
    "\n",
    "Nun möchten wir den Wert von $f(2,4)$ schätzen. Bei der linearen Interpolation wird eine Gerade, auch als Sekante bezeichnet, zwischen diesen beiden Punkten gezeichnet. Diese Sekante wird durch eine lineare Funktion $f(x) = mx + b$ beschrieben, die durch die beiden gegebenen Punkte definiert ist.\n",
    "\n",
    "Die Steigung der Sekante, $m$, kann durch den Anstieg zwischen den Punkten berechnet werden:\n",
    "\n",
    "$$m = \\frac{y_2 - y_1}{x_2 - x_1} = \\frac{f(3) - f(2)}{3 - 2} = 21$$\n",
    "\n",
    "Alternativ kann die Steigung auch durch den gesuchten Punkt $(x, y)$ und einen der gegebenen Punkte, zum Beispiel $y_1$, definiert werden:\n",
    "\n",
    "$$m = \\frac{y - y_1}{x - x_1} = \\frac{y - f(2)}{x - 2}$$\n",
    "\n",
    "Da beide Steigungen identisch sind, können wir die Gleichungen gleichsetzen:\n",
    "\n",
    "$$\\frac{y - f(2)}{x - 2} = \\frac{f(3) - f(2)}{3 - 2}$$\n",
    "\n",
    "Daraus ergibt sich eine Formel zur Berechnung des geschätzten Werts $y$:\n",
    "\n",
    "$$y = f(2) + \\frac{x - 2}{3 - 2} \\cdot (f(3) - f(2))$$\n",
    "\n",
    "Indem wir die gegebenen Werte in diese Formel einsetzen, erhalten wir eine Näherung für $y$:\n",
    "\n",
    "$$y = 4 + \\frac{2,4 - 2}{3 - 2} \\cdot (25 - 4) = 12{,}4$$\n",
    "\n",
    "Die lineare Interpolation ermöglicht es uns also, den Wert einer Funktion zwischen zwei gegebenen Punkten abzuschätzen und kontinuierliche Informationen aus diskreten Daten zu gewinnen."
   ]
  },
  {
   "cell_type": "code",
   "execution_count": 2,
   "id": "e9d65baa-aebf-4aae-8a7b-cbe196cac214",
   "metadata": {
    "tags": [
     "hide-input"
    ]
   },
   "outputs": [
    {
     "name": "stdout",
     "output_type": "stream",
     "text": [
      "12.399999999999999\n"
     ]
    }
   ],
   "source": [
    "x1 = 2\n",
    "y1 = 4\n",
    "\n",
    "x2 = 3\n",
    "y2 = 25\n",
    "\n",
    "x = 2.4\n",
    "print(y1 + (x-x1)/(x2-x1) * (y2-y1))"
   ]
  },
  {
   "cell_type": "markdown",
   "id": "6f220ed0-b976-4bc1-8f00-fa3f231edf7f",
   "metadata": {},
   "source": [
    "```{warning}\n",
    "In solchen Fällen können $y$-Werte erfolgreich approximiert werden, solange die $x$-Werte eng beieinander liegen. Allerdings führt die Interpolation bei weit voneinander entfernten Werten zu erheblichen Fehlern.\n",
    "```"
   ]
  },
  {
   "cell_type": "markdown",
   "id": "c08520f9-8dcf-4f80-b764-4e0df01f338e",
   "metadata": {},
   "source": [
    "## Was benutzt man wann und warum?\n",
    "\n",
    "* **Interpolation**...\n",
    "    * benutzt man bei wenigen Messwerten\n",
    "    * benutzt man wenn keine Störung die Messung überlagert\n",
    "    * ist eine analytische Kennlinie, die exakt durch die Messpunkte verläuft (siehe [Kennlinie](2_idealeKennlinie.ipynb))\n",
    "    * berechnet man unter der Verwendung von z.B. Polynomen (z.B. spline-Methode)\n",
    "    * ist bei großen Datenmengen sehr unhandlich\n",
    "* **Approximation/Anpassung/Regression:**...\n",
    "    * benutzt man bei vielen Messwerten\n",
    "    * benutzt man bei überlagerten Störungen\n",
    "    * benutzt man wenn die Interpolation unpraktisch ist\n",
    "    * ist eine Linearkombination geeigneter analytischer Basisfunktionen\n",
    "    * ist eine Anpassung eines physikalischen Modells an die Daten"
   ]
  },
  {
   "cell_type": "code",
   "execution_count": null,
   "id": "cb17279c-f29a-4469-b1af-c1f181c9494b",
   "metadata": {},
   "outputs": [],
   "source": []
  }
 ],
 "metadata": {
  "kernelspec": {
   "display_name": "Python 3",
   "language": "python",
   "name": "python3"
  },
  "language_info": {
   "codemirror_mode": {
    "name": "ipython",
    "version": 3
   },
   "file_extension": ".py",
   "mimetype": "text/x-python",
   "name": "python",
   "nbconvert_exporter": "python",
   "pygments_lexer": "ipython3",
   "version": "3.9.12"
  }
 },
 "nbformat": 4,
 "nbformat_minor": 5
}
