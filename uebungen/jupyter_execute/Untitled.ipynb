{
 "cells": [
  {
   "cell_type": "code",
   "execution_count": 1,
   "id": "79b07059-d703-4864-8d6c-f1c4ee0a83f0",
   "metadata": {},
   "outputs": [],
   "source": [
    "R0 = 10e3\n",
    "dR = 100\n",
    "dRT = 100\n",
    "U0 = 10\n",
    "\n",
    "e_ohneRK = 0.5*U0 * (2*R0) / (2*R0 + dR + dRT)**2\n",
    "e_mitRK =  0.5*U0 * (2*dR) / (2*R0 + dR + 2*dRT)**2"
   ]
  },
  {
   "cell_type": "code",
   "execution_count": 2,
   "id": "3579bb35-4e17-4c45-a745-76ea326528f4",
   "metadata": {},
   "outputs": [
    {
     "name": "stdout",
     "output_type": "stream",
     "text": [
      "0.0002450740123517302\n",
      "2.4266543716178506e-06\n",
      "100.99254975002451\n",
      "100.0\n"
     ]
    }
   ],
   "source": [
    "print(e_ohneRK)\n",
    "print(e_mitRK)\n",
    "print(e_ohneRK/e_mitRK)\n",
    "print(R0/dR)"
   ]
  },
  {
   "cell_type": "code",
   "execution_count": 3,
   "id": "0d5b0728-1c00-4872-8a5b-06838985b7d5",
   "metadata": {},
   "outputs": [],
   "source": [
    "R0 = 10e3\n",
    "dR = 100\n",
    "dRT = 1000\n",
    "U0 = 10\n",
    "\n",
    "e_ohneRK = 0.5*U0 * (2*R0) / (2*R0 + dR + dRT)**2\n",
    "e_mitRK =  0.5*U0 * (2*dR) / (2*R0 + dR + 2*dRT)**2"
   ]
  },
  {
   "cell_type": "code",
   "execution_count": 4,
   "id": "53d27937-dad4-4213-9b33-a753352ceb3f",
   "metadata": {},
   "outputs": [
    {
     "name": "stdout",
     "output_type": "stream",
     "text": [
      "0.0002246131039284832\n",
      "2.0474601257140517e-06\n",
      "109.70328608971047\n",
      "100.0\n"
     ]
    }
   ],
   "source": [
    "print(e_ohneRK)\n",
    "print(e_mitRK)\n",
    "print(e_ohneRK/e_mitRK)\n",
    "print(R0/dR)"
   ]
  },
  {
   "cell_type": "code",
   "execution_count": null,
   "id": "c8f7c655-31d5-422d-9f08-e2b1b9ba4ea2",
   "metadata": {},
   "outputs": [],
   "source": []
  }
 ],
 "metadata": {
  "kernelspec": {
   "display_name": "Python 3",
   "language": "python",
   "name": "python3"
  },
  "language_info": {
   "codemirror_mode": {
    "name": "ipython",
    "version": 3
   },
   "file_extension": ".py",
   "mimetype": "text/x-python",
   "name": "python",
   "nbconvert_exporter": "python",
   "pygments_lexer": "ipython3",
   "version": "3.9.18"
  }
 },
 "nbformat": 4,
 "nbformat_minor": 5
}