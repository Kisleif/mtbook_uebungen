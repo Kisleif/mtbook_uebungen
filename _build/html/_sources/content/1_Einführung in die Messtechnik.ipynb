{
 "cells": [
  {
   "cell_type": "markdown",
   "id": "b8a4e7ce-d406-442e-b6b5-977466c64b14",
   "metadata": {},
   "source": [
    "# Einführung in die Messtechnik\n",
    "\n",
    "<iframe width=\"560\" height=\"315\" src=\"https://www.youtube.com/embed/nuuRDvRqePg?si=zK4wNP_FB-8r-yKe\" title=\"YouTube video player\" frameborder=\"0\" allow=\"accelerometer; autoplay; clipboard-write; encrypted-media; gyroscope; picture-in-picture; web-share\" allowfullscreen></iframe>\n",
    "\n",
    "Ein Messobjekt hat eine bestimmte **Messgröße** $x$ (physikalische Größe, Temperatur, Stromstärke, ..., chemische Messgröße, ...) von welcher der Messwert bestimmt werden soll. Hierfür wird ein Verfahren benötigt, um die Größe zu extrahieren, was durch ein passendes Messgerät geschieht. \n",
    "\n",
    "## Messgröße, -wert und -kette\n",
    "\n",
    "In {numref}`messgroesse` wird ist das Beispiel einer Messkette für eine Temperaturmessung gezeigt. An einem bestimmten Ort herrschende **Messgröße**, hier 24,1286941…°C, wird mittels eines geeigneten Aufbaus in einen **Messwert** von 25,01°C überführt. \n",
    "Der Messwert kann uns direkt angezeigt werden oder er kann in nachfolgenden elektronischen Systemen zur Weiterverarbeitung in geeigneter Form zugeführt werden. \n",
    "\n",
    ":::{figure-md} messgroesse\n",
    "<img src=\"draw/messgroesse.jpg\" alt=\"messgroesse\" width=\"600px\" label = messgroesse>\n",
    "\n",
    "Darstellung der **Messkette**.\n",
    ":::\n",
    "\n",
    "## Messsignal\n",
    "\n",
    "Von einem **Messsignal**, $x_1$ (im Gegensatz zur Begrifflichkeit *Messgröße*) spricht man, wenn direkt mit der Messgröße zusammenhängende elektrische Signale zwischen den beiden Stellen, an denen Messgröße und Messwert anfallen, gemessen werden (zum Beispiel das Kabel in der Skizze). Messsignale tragen die Information über die Messgröße, welche auf unterschiedlichste Weise realisiert werden z.B. als analoger Spannungs- oder Stromwert, als frequenzmoduliertes Signal, als Digitalwort oder ähnliches. Häufig bezeichnet man mit einem Signal einen zeitabhängigen Messwert, d.h. $x_1(t)$. \n",
    "\n",
    "## Einheit \n",
    "\n",
    "Wird ein Messwert, $x$, bestimmt, so entspricht dieser im Rahmen der Messtechnik einem Vielfachen, $n$, von einer Einheit, $E$:\n",
    "\n",
    "$$ x = n \\cdot E$$\n",
    "\n",
    "Ein Messgerät bestimmt ein Vielfaches einer Einheit. Damit dies überall auf der Welt gleich gut funktioniert muss ein Messgerät entsprechend *geeicht* oder *kalibriert* werden. \n",
    "Außerdem gibt es auch noch den Begriff des *Justierens*. Dieser beschreibt die Anpassung eines Messgerät an verschiedene Umgebungen. Evtl. müssen Messgeräte bei unterschiedlichen Temperaturen anders behandelt werden und entsprechend *einjustiert* werden.\n",
    "\n",
    "## Blockdiagramme\n",
    "\n",
    "Häufig werden Prozesse in der Messtechnik mittels **Blockdiagrammen** dargestellt. Für die Messkette in {numref}`messgroesse` würde das Blockdiagramm wie in {numref}`messsystem_block`  dargestellt aussehen:\n",
    "\n",
    ":::{figure-md} messsystem_block\n",
    "<img src=\"draw/messsystem.jpg\" alt=\"messsystem\" width=\"600px\" label = messsystem_block>\n",
    "\n",
    "Blockdiagramm der Messkette.\n",
    ":::\n",
    "\n",
    "## Beispiel: Prozess einer Heizungsregelung\n",
    "\n",
    "In diesem Beispiel spielt Messtechnik eine entscheidende Rolle. In einem Gebäude sind Temperatursensoren installiert, die kontinuierlich die Raumtemperatur ($T$) messen. Diese gemessene Temperatur ($T$) wird als Eingangsgröße in das System eingebracht. Das System verarbeitet diese Eingangsgröße, die als $\\hat{x}$ bezeichnet wird, und ermittelt die Differenz $T-\\hat x$ zwischen der gemessenen Temperatur und der Solltemperatur.\n",
    "\n",
    "Diese Differenz wird dann einem Regler zugeführt, der eine bestimmte Regellogik implementiert. Wenn die gemessene Temperatur zu niedrig ist, bedeutet dies, dass es zu kalt im Raum ist. Infolgedessen wird der Regler entscheiden, die Heizung zu aktivieren, um die Temperatur zu erhöhen. Die Heizung wird somit als Aktor verwendet, um die Temperatur im Raum zu regulieren. \n",
    "\n",
    "Nachdem die Heizung aktiviert wurde, wird die Temperatur erneut gemessen, und der Prozess setzt sich fort. Dieses Beispiel veranschaulicht auf anschauliche Weise die grundlegenden Prinzipien der Messtechnik, die darin bestehen, physikalische Größen zu erfassen (in diesem Fall die Temperatur), sie zu analysieren, zu steuern und zu regulieren, um einen gewünschten Zustand oder eine Solltemperatur zu erreichen. Dieses Konzept des Messens, Regulierens und Steuerns ist ein charakteristisches Merkmal der Messtechnik und wird in einer Vielzahl von Anwendungen eingesetzt.\n",
    "\n",
    ":::{figure-md} beispiel_mt\n",
    "<img src=\"draw/beispiel_mt.jpg\" alt=\"beispiel_mt\" width=\"600px\" label = beispiel_mt>\n",
    "\n",
    "Beispiel-Messkette einer Regelschleife für eine Heizungsregelung.\n",
    ":::"
   ]
  }
 ],
 "metadata": {
  "kernelspec": {
   "display_name": "Python 3",
   "language": "python",
   "name": "python3"
  },
  "language_info": {
   "codemirror_mode": {
    "name": "ipython",
    "version": 3
   },
   "file_extension": ".py",
   "mimetype": "text/x-python",
   "name": "python",
   "nbconvert_exporter": "python",
   "pygments_lexer": "ipython3",
   "version": "3.9.12"
  }
 },
 "nbformat": 4,
 "nbformat_minor": 5
}
